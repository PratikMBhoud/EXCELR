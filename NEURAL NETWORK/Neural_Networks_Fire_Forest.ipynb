{
  "nbformat": 4,
  "nbformat_minor": 0,
  "metadata": {
    "colab": {
      "provenance": []
    },
    "kernelspec": {
      "name": "python3",
      "display_name": "Python 3"
    },
    "language_info": {
      "name": "python"
    }
  },
  "cells": [
    {
      "cell_type": "code",
      "execution_count": null,
      "metadata": {
        "colab": {
          "base_uri": "https://localhost:8080/",
          "height": 300
        },
        "id": "1VfS6NW0A_Tu",
        "outputId": "fc649b81-7a16-4e27-c916-3fda865cd8a2"
      },
      "outputs": [
        {
          "output_type": "execute_result",
          "data": {
            "text/plain": [
              "  month  day  FFMC   DMC     DC  ISI  temp  RH  wind  rain  ...  monthfeb  \\\n",
              "0   mar  fri  86.2  26.2   94.3  5.1   8.2  51   6.7   0.0  ...         0   \n",
              "1   oct  tue  90.6  35.4  669.1  6.7  18.0  33   0.9   0.0  ...         0   \n",
              "2   oct  sat  90.6  43.7  686.9  6.7  14.6  33   1.3   0.0  ...         0   \n",
              "3   mar  fri  91.7  33.3   77.5  9.0   8.3  97   4.0   0.2  ...         0   \n",
              "4   mar  sun  89.3  51.3  102.2  9.6  11.4  99   1.8   0.0  ...         0   \n",
              "\n",
              "   monthjan  monthjul  monthjun  monthmar  monthmay  monthnov  monthoct  \\\n",
              "0         0         0         0         1         0         0         0   \n",
              "1         0         0         0         0         0         0         1   \n",
              "2         0         0         0         0         0         0         1   \n",
              "3         0         0         0         1         0         0         0   \n",
              "4         0         0         0         1         0         0         0   \n",
              "\n",
              "   monthsep  size_category  \n",
              "0         0          small  \n",
              "1         0          small  \n",
              "2         0          small  \n",
              "3         0          small  \n",
              "4         0          small  \n",
              "\n",
              "[5 rows x 31 columns]"
            ],
            "text/html": [
              "\n",
              "  <div id=\"df-f083c374-edf7-4d82-a5d6-6a15271f1956\">\n",
              "    <div class=\"colab-df-container\">\n",
              "      <div>\n",
              "<style scoped>\n",
              "    .dataframe tbody tr th:only-of-type {\n",
              "        vertical-align: middle;\n",
              "    }\n",
              "\n",
              "    .dataframe tbody tr th {\n",
              "        vertical-align: top;\n",
              "    }\n",
              "\n",
              "    .dataframe thead th {\n",
              "        text-align: right;\n",
              "    }\n",
              "</style>\n",
              "<table border=\"1\" class=\"dataframe\">\n",
              "  <thead>\n",
              "    <tr style=\"text-align: right;\">\n",
              "      <th></th>\n",
              "      <th>month</th>\n",
              "      <th>day</th>\n",
              "      <th>FFMC</th>\n",
              "      <th>DMC</th>\n",
              "      <th>DC</th>\n",
              "      <th>ISI</th>\n",
              "      <th>temp</th>\n",
              "      <th>RH</th>\n",
              "      <th>wind</th>\n",
              "      <th>rain</th>\n",
              "      <th>...</th>\n",
              "      <th>monthfeb</th>\n",
              "      <th>monthjan</th>\n",
              "      <th>monthjul</th>\n",
              "      <th>monthjun</th>\n",
              "      <th>monthmar</th>\n",
              "      <th>monthmay</th>\n",
              "      <th>monthnov</th>\n",
              "      <th>monthoct</th>\n",
              "      <th>monthsep</th>\n",
              "      <th>size_category</th>\n",
              "    </tr>\n",
              "  </thead>\n",
              "  <tbody>\n",
              "    <tr>\n",
              "      <th>0</th>\n",
              "      <td>mar</td>\n",
              "      <td>fri</td>\n",
              "      <td>86.2</td>\n",
              "      <td>26.2</td>\n",
              "      <td>94.3</td>\n",
              "      <td>5.1</td>\n",
              "      <td>8.2</td>\n",
              "      <td>51</td>\n",
              "      <td>6.7</td>\n",
              "      <td>0.0</td>\n",
              "      <td>...</td>\n",
              "      <td>0</td>\n",
              "      <td>0</td>\n",
              "      <td>0</td>\n",
              "      <td>0</td>\n",
              "      <td>1</td>\n",
              "      <td>0</td>\n",
              "      <td>0</td>\n",
              "      <td>0</td>\n",
              "      <td>0</td>\n",
              "      <td>small</td>\n",
              "    </tr>\n",
              "    <tr>\n",
              "      <th>1</th>\n",
              "      <td>oct</td>\n",
              "      <td>tue</td>\n",
              "      <td>90.6</td>\n",
              "      <td>35.4</td>\n",
              "      <td>669.1</td>\n",
              "      <td>6.7</td>\n",
              "      <td>18.0</td>\n",
              "      <td>33</td>\n",
              "      <td>0.9</td>\n",
              "      <td>0.0</td>\n",
              "      <td>...</td>\n",
              "      <td>0</td>\n",
              "      <td>0</td>\n",
              "      <td>0</td>\n",
              "      <td>0</td>\n",
              "      <td>0</td>\n",
              "      <td>0</td>\n",
              "      <td>0</td>\n",
              "      <td>1</td>\n",
              "      <td>0</td>\n",
              "      <td>small</td>\n",
              "    </tr>\n",
              "    <tr>\n",
              "      <th>2</th>\n",
              "      <td>oct</td>\n",
              "      <td>sat</td>\n",
              "      <td>90.6</td>\n",
              "      <td>43.7</td>\n",
              "      <td>686.9</td>\n",
              "      <td>6.7</td>\n",
              "      <td>14.6</td>\n",
              "      <td>33</td>\n",
              "      <td>1.3</td>\n",
              "      <td>0.0</td>\n",
              "      <td>...</td>\n",
              "      <td>0</td>\n",
              "      <td>0</td>\n",
              "      <td>0</td>\n",
              "      <td>0</td>\n",
              "      <td>0</td>\n",
              "      <td>0</td>\n",
              "      <td>0</td>\n",
              "      <td>1</td>\n",
              "      <td>0</td>\n",
              "      <td>small</td>\n",
              "    </tr>\n",
              "    <tr>\n",
              "      <th>3</th>\n",
              "      <td>mar</td>\n",
              "      <td>fri</td>\n",
              "      <td>91.7</td>\n",
              "      <td>33.3</td>\n",
              "      <td>77.5</td>\n",
              "      <td>9.0</td>\n",
              "      <td>8.3</td>\n",
              "      <td>97</td>\n",
              "      <td>4.0</td>\n",
              "      <td>0.2</td>\n",
              "      <td>...</td>\n",
              "      <td>0</td>\n",
              "      <td>0</td>\n",
              "      <td>0</td>\n",
              "      <td>0</td>\n",
              "      <td>1</td>\n",
              "      <td>0</td>\n",
              "      <td>0</td>\n",
              "      <td>0</td>\n",
              "      <td>0</td>\n",
              "      <td>small</td>\n",
              "    </tr>\n",
              "    <tr>\n",
              "      <th>4</th>\n",
              "      <td>mar</td>\n",
              "      <td>sun</td>\n",
              "      <td>89.3</td>\n",
              "      <td>51.3</td>\n",
              "      <td>102.2</td>\n",
              "      <td>9.6</td>\n",
              "      <td>11.4</td>\n",
              "      <td>99</td>\n",
              "      <td>1.8</td>\n",
              "      <td>0.0</td>\n",
              "      <td>...</td>\n",
              "      <td>0</td>\n",
              "      <td>0</td>\n",
              "      <td>0</td>\n",
              "      <td>0</td>\n",
              "      <td>1</td>\n",
              "      <td>0</td>\n",
              "      <td>0</td>\n",
              "      <td>0</td>\n",
              "      <td>0</td>\n",
              "      <td>small</td>\n",
              "    </tr>\n",
              "  </tbody>\n",
              "</table>\n",
              "<p>5 rows × 31 columns</p>\n",
              "</div>\n",
              "      <button class=\"colab-df-convert\" onclick=\"convertToInteractive('df-f083c374-edf7-4d82-a5d6-6a15271f1956')\"\n",
              "              title=\"Convert this dataframe to an interactive table.\"\n",
              "              style=\"display:none;\">\n",
              "        \n",
              "  <svg xmlns=\"http://www.w3.org/2000/svg\" height=\"24px\"viewBox=\"0 0 24 24\"\n",
              "       width=\"24px\">\n",
              "    <path d=\"M0 0h24v24H0V0z\" fill=\"none\"/>\n",
              "    <path d=\"M18.56 5.44l.94 2.06.94-2.06 2.06-.94-2.06-.94-.94-2.06-.94 2.06-2.06.94zm-11 1L8.5 8.5l.94-2.06 2.06-.94-2.06-.94L8.5 2.5l-.94 2.06-2.06.94zm10 10l.94 2.06.94-2.06 2.06-.94-2.06-.94-.94-2.06-.94 2.06-2.06.94z\"/><path d=\"M17.41 7.96l-1.37-1.37c-.4-.4-.92-.59-1.43-.59-.52 0-1.04.2-1.43.59L10.3 9.45l-7.72 7.72c-.78.78-.78 2.05 0 2.83L4 21.41c.39.39.9.59 1.41.59.51 0 1.02-.2 1.41-.59l7.78-7.78 2.81-2.81c.8-.78.8-2.07 0-2.86zM5.41 20L4 18.59l7.72-7.72 1.47 1.35L5.41 20z\"/>\n",
              "  </svg>\n",
              "      </button>\n",
              "      \n",
              "  <style>\n",
              "    .colab-df-container {\n",
              "      display:flex;\n",
              "      flex-wrap:wrap;\n",
              "      gap: 12px;\n",
              "    }\n",
              "\n",
              "    .colab-df-convert {\n",
              "      background-color: #E8F0FE;\n",
              "      border: none;\n",
              "      border-radius: 50%;\n",
              "      cursor: pointer;\n",
              "      display: none;\n",
              "      fill: #1967D2;\n",
              "      height: 32px;\n",
              "      padding: 0 0 0 0;\n",
              "      width: 32px;\n",
              "    }\n",
              "\n",
              "    .colab-df-convert:hover {\n",
              "      background-color: #E2EBFA;\n",
              "      box-shadow: 0px 1px 2px rgba(60, 64, 67, 0.3), 0px 1px 3px 1px rgba(60, 64, 67, 0.15);\n",
              "      fill: #174EA6;\n",
              "    }\n",
              "\n",
              "    [theme=dark] .colab-df-convert {\n",
              "      background-color: #3B4455;\n",
              "      fill: #D2E3FC;\n",
              "    }\n",
              "\n",
              "    [theme=dark] .colab-df-convert:hover {\n",
              "      background-color: #434B5C;\n",
              "      box-shadow: 0px 1px 3px 1px rgba(0, 0, 0, 0.15);\n",
              "      filter: drop-shadow(0px 1px 2px rgba(0, 0, 0, 0.3));\n",
              "      fill: #FFFFFF;\n",
              "    }\n",
              "  </style>\n",
              "\n",
              "      <script>\n",
              "        const buttonEl =\n",
              "          document.querySelector('#df-f083c374-edf7-4d82-a5d6-6a15271f1956 button.colab-df-convert');\n",
              "        buttonEl.style.display =\n",
              "          google.colab.kernel.accessAllowed ? 'block' : 'none';\n",
              "\n",
              "        async function convertToInteractive(key) {\n",
              "          const element = document.querySelector('#df-f083c374-edf7-4d82-a5d6-6a15271f1956');\n",
              "          const dataTable =\n",
              "            await google.colab.kernel.invokeFunction('convertToInteractive',\n",
              "                                                     [key], {});\n",
              "          if (!dataTable) return;\n",
              "\n",
              "          const docLinkHtml = 'Like what you see? Visit the ' +\n",
              "            '<a target=\"_blank\" href=https://colab.research.google.com/notebooks/data_table.ipynb>data table notebook</a>'\n",
              "            + ' to learn more about interactive tables.';\n",
              "          element.innerHTML = '';\n",
              "          dataTable['output_type'] = 'display_data';\n",
              "          await google.colab.output.renderOutput(dataTable, element);\n",
              "          const docLink = document.createElement('div');\n",
              "          docLink.innerHTML = docLinkHtml;\n",
              "          element.appendChild(docLink);\n",
              "        }\n",
              "      </script>\n",
              "    </div>\n",
              "  </div>\n",
              "  "
            ]
          },
          "metadata": {},
          "execution_count": 1
        }
      ],
      "source": [
        "import pandas as pd\n",
        "import numpy as np\n",
        "import matplotlib.pyplot as plt\n",
        "%matplotlib inline\n",
        "import seaborn as sns\n",
        "from sklearn.preprocessing import MinMaxScaler\n",
        "from sklearn.preprocessing import StandardScaler\n",
        "from sklearn.preprocessing import LabelEncoder\n",
        "import warnings\n",
        "warnings.filterwarnings(action='ignore')\n",
        "from sklearn.model_selection import GridSearchCV, cross_val_score, train_test_split\n",
        "from sklearn.metrics import accuracy_score, confusion_matrix\n",
        "\n",
        "\n",
        "#Load data\n",
        "df = pd.read_csv('/content/forestfires.csv')\n",
        "df.head()"
      ]
    },
    {
      "cell_type": "code",
      "source": [
        "df.shape"
      ],
      "metadata": {
        "colab": {
          "base_uri": "https://localhost:8080/"
        },
        "id": "50TLc-5pNCeQ",
        "outputId": "36409216-29bf-4682-875f-ec20722c1cda"
      },
      "execution_count": null,
      "outputs": [
        {
          "output_type": "execute_result",
          "data": {
            "text/plain": [
              "(517, 31)"
            ]
          },
          "metadata": {},
          "execution_count": 2
        }
      ]
    },
    {
      "cell_type": "code",
      "source": [
        "df.columns"
      ],
      "metadata": {
        "colab": {
          "base_uri": "https://localhost:8080/"
        },
        "id": "vIDqBPfVNX5m",
        "outputId": "42eb2981-48e5-4017-9b15-c70d6551c2ee"
      },
      "execution_count": null,
      "outputs": [
        {
          "output_type": "execute_result",
          "data": {
            "text/plain": [
              "Index(['month', 'day', 'FFMC', 'DMC', 'DC', 'ISI', 'temp', 'RH', 'wind',\n",
              "       'rain', 'area', 'dayfri', 'daymon', 'daysat', 'daysun', 'daythu',\n",
              "       'daytue', 'daywed', 'monthapr', 'monthaug', 'monthdec', 'monthfeb',\n",
              "       'monthjan', 'monthjul', 'monthjun', 'monthmar', 'monthmay', 'monthnov',\n",
              "       'monthoct', 'monthsep', 'size_category'],\n",
              "      dtype='object')"
            ]
          },
          "metadata": {},
          "execution_count": 3
        }
      ]
    },
    {
      "cell_type": "code",
      "source": [
        "pd.set_option(\"display.max_columns\", 31)\n",
        "df.head()"
      ],
      "metadata": {
        "colab": {
          "base_uri": "https://localhost:8080/",
          "height": 270
        },
        "id": "tITjbFsyPqD1",
        "outputId": "2d3e3eb7-08fb-4802-dc13-acd36fbf2b10"
      },
      "execution_count": null,
      "outputs": [
        {
          "output_type": "execute_result",
          "data": {
            "text/plain": [
              "  month  day  FFMC   DMC     DC  ISI  temp  RH  wind  rain  area  dayfri  \\\n",
              "0   mar  fri  86.2  26.2   94.3  5.1   8.2  51   6.7   0.0   0.0       1   \n",
              "1   oct  tue  90.6  35.4  669.1  6.7  18.0  33   0.9   0.0   0.0       0   \n",
              "2   oct  sat  90.6  43.7  686.9  6.7  14.6  33   1.3   0.0   0.0       0   \n",
              "3   mar  fri  91.7  33.3   77.5  9.0   8.3  97   4.0   0.2   0.0       1   \n",
              "4   mar  sun  89.3  51.3  102.2  9.6  11.4  99   1.8   0.0   0.0       0   \n",
              "\n",
              "   daymon  daysat  daysun  daythu  daytue  daywed  monthapr  monthaug  \\\n",
              "0       0       0       0       0       0       0         0         0   \n",
              "1       0       0       0       0       1       0         0         0   \n",
              "2       0       1       0       0       0       0         0         0   \n",
              "3       0       0       0       0       0       0         0         0   \n",
              "4       0       0       1       0       0       0         0         0   \n",
              "\n",
              "   monthdec  monthfeb  monthjan  monthjul  monthjun  monthmar  monthmay  \\\n",
              "0         0         0         0         0         0         1         0   \n",
              "1         0         0         0         0         0         0         0   \n",
              "2         0         0         0         0         0         0         0   \n",
              "3         0         0         0         0         0         1         0   \n",
              "4         0         0         0         0         0         1         0   \n",
              "\n",
              "   monthnov  monthoct  monthsep size_category  \n",
              "0         0         0         0         small  \n",
              "1         0         1         0         small  \n",
              "2         0         1         0         small  \n",
              "3         0         0         0         small  \n",
              "4         0         0         0         small  "
            ],
            "text/html": [
              "\n",
              "  <div id=\"df-93dcbe8e-8e87-4e18-8ec0-6a6334316c20\">\n",
              "    <div class=\"colab-df-container\">\n",
              "      <div>\n",
              "<style scoped>\n",
              "    .dataframe tbody tr th:only-of-type {\n",
              "        vertical-align: middle;\n",
              "    }\n",
              "\n",
              "    .dataframe tbody tr th {\n",
              "        vertical-align: top;\n",
              "    }\n",
              "\n",
              "    .dataframe thead th {\n",
              "        text-align: right;\n",
              "    }\n",
              "</style>\n",
              "<table border=\"1\" class=\"dataframe\">\n",
              "  <thead>\n",
              "    <tr style=\"text-align: right;\">\n",
              "      <th></th>\n",
              "      <th>month</th>\n",
              "      <th>day</th>\n",
              "      <th>FFMC</th>\n",
              "      <th>DMC</th>\n",
              "      <th>DC</th>\n",
              "      <th>ISI</th>\n",
              "      <th>temp</th>\n",
              "      <th>RH</th>\n",
              "      <th>wind</th>\n",
              "      <th>rain</th>\n",
              "      <th>area</th>\n",
              "      <th>dayfri</th>\n",
              "      <th>daymon</th>\n",
              "      <th>daysat</th>\n",
              "      <th>daysun</th>\n",
              "      <th>daythu</th>\n",
              "      <th>daytue</th>\n",
              "      <th>daywed</th>\n",
              "      <th>monthapr</th>\n",
              "      <th>monthaug</th>\n",
              "      <th>monthdec</th>\n",
              "      <th>monthfeb</th>\n",
              "      <th>monthjan</th>\n",
              "      <th>monthjul</th>\n",
              "      <th>monthjun</th>\n",
              "      <th>monthmar</th>\n",
              "      <th>monthmay</th>\n",
              "      <th>monthnov</th>\n",
              "      <th>monthoct</th>\n",
              "      <th>monthsep</th>\n",
              "      <th>size_category</th>\n",
              "    </tr>\n",
              "  </thead>\n",
              "  <tbody>\n",
              "    <tr>\n",
              "      <th>0</th>\n",
              "      <td>mar</td>\n",
              "      <td>fri</td>\n",
              "      <td>86.2</td>\n",
              "      <td>26.2</td>\n",
              "      <td>94.3</td>\n",
              "      <td>5.1</td>\n",
              "      <td>8.2</td>\n",
              "      <td>51</td>\n",
              "      <td>6.7</td>\n",
              "      <td>0.0</td>\n",
              "      <td>0.0</td>\n",
              "      <td>1</td>\n",
              "      <td>0</td>\n",
              "      <td>0</td>\n",
              "      <td>0</td>\n",
              "      <td>0</td>\n",
              "      <td>0</td>\n",
              "      <td>0</td>\n",
              "      <td>0</td>\n",
              "      <td>0</td>\n",
              "      <td>0</td>\n",
              "      <td>0</td>\n",
              "      <td>0</td>\n",
              "      <td>0</td>\n",
              "      <td>0</td>\n",
              "      <td>1</td>\n",
              "      <td>0</td>\n",
              "      <td>0</td>\n",
              "      <td>0</td>\n",
              "      <td>0</td>\n",
              "      <td>small</td>\n",
              "    </tr>\n",
              "    <tr>\n",
              "      <th>1</th>\n",
              "      <td>oct</td>\n",
              "      <td>tue</td>\n",
              "      <td>90.6</td>\n",
              "      <td>35.4</td>\n",
              "      <td>669.1</td>\n",
              "      <td>6.7</td>\n",
              "      <td>18.0</td>\n",
              "      <td>33</td>\n",
              "      <td>0.9</td>\n",
              "      <td>0.0</td>\n",
              "      <td>0.0</td>\n",
              "      <td>0</td>\n",
              "      <td>0</td>\n",
              "      <td>0</td>\n",
              "      <td>0</td>\n",
              "      <td>0</td>\n",
              "      <td>1</td>\n",
              "      <td>0</td>\n",
              "      <td>0</td>\n",
              "      <td>0</td>\n",
              "      <td>0</td>\n",
              "      <td>0</td>\n",
              "      <td>0</td>\n",
              "      <td>0</td>\n",
              "      <td>0</td>\n",
              "      <td>0</td>\n",
              "      <td>0</td>\n",
              "      <td>0</td>\n",
              "      <td>1</td>\n",
              "      <td>0</td>\n",
              "      <td>small</td>\n",
              "    </tr>\n",
              "    <tr>\n",
              "      <th>2</th>\n",
              "      <td>oct</td>\n",
              "      <td>sat</td>\n",
              "      <td>90.6</td>\n",
              "      <td>43.7</td>\n",
              "      <td>686.9</td>\n",
              "      <td>6.7</td>\n",
              "      <td>14.6</td>\n",
              "      <td>33</td>\n",
              "      <td>1.3</td>\n",
              "      <td>0.0</td>\n",
              "      <td>0.0</td>\n",
              "      <td>0</td>\n",
              "      <td>0</td>\n",
              "      <td>1</td>\n",
              "      <td>0</td>\n",
              "      <td>0</td>\n",
              "      <td>0</td>\n",
              "      <td>0</td>\n",
              "      <td>0</td>\n",
              "      <td>0</td>\n",
              "      <td>0</td>\n",
              "      <td>0</td>\n",
              "      <td>0</td>\n",
              "      <td>0</td>\n",
              "      <td>0</td>\n",
              "      <td>0</td>\n",
              "      <td>0</td>\n",
              "      <td>0</td>\n",
              "      <td>1</td>\n",
              "      <td>0</td>\n",
              "      <td>small</td>\n",
              "    </tr>\n",
              "    <tr>\n",
              "      <th>3</th>\n",
              "      <td>mar</td>\n",
              "      <td>fri</td>\n",
              "      <td>91.7</td>\n",
              "      <td>33.3</td>\n",
              "      <td>77.5</td>\n",
              "      <td>9.0</td>\n",
              "      <td>8.3</td>\n",
              "      <td>97</td>\n",
              "      <td>4.0</td>\n",
              "      <td>0.2</td>\n",
              "      <td>0.0</td>\n",
              "      <td>1</td>\n",
              "      <td>0</td>\n",
              "      <td>0</td>\n",
              "      <td>0</td>\n",
              "      <td>0</td>\n",
              "      <td>0</td>\n",
              "      <td>0</td>\n",
              "      <td>0</td>\n",
              "      <td>0</td>\n",
              "      <td>0</td>\n",
              "      <td>0</td>\n",
              "      <td>0</td>\n",
              "      <td>0</td>\n",
              "      <td>0</td>\n",
              "      <td>1</td>\n",
              "      <td>0</td>\n",
              "      <td>0</td>\n",
              "      <td>0</td>\n",
              "      <td>0</td>\n",
              "      <td>small</td>\n",
              "    </tr>\n",
              "    <tr>\n",
              "      <th>4</th>\n",
              "      <td>mar</td>\n",
              "      <td>sun</td>\n",
              "      <td>89.3</td>\n",
              "      <td>51.3</td>\n",
              "      <td>102.2</td>\n",
              "      <td>9.6</td>\n",
              "      <td>11.4</td>\n",
              "      <td>99</td>\n",
              "      <td>1.8</td>\n",
              "      <td>0.0</td>\n",
              "      <td>0.0</td>\n",
              "      <td>0</td>\n",
              "      <td>0</td>\n",
              "      <td>0</td>\n",
              "      <td>1</td>\n",
              "      <td>0</td>\n",
              "      <td>0</td>\n",
              "      <td>0</td>\n",
              "      <td>0</td>\n",
              "      <td>0</td>\n",
              "      <td>0</td>\n",
              "      <td>0</td>\n",
              "      <td>0</td>\n",
              "      <td>0</td>\n",
              "      <td>0</td>\n",
              "      <td>1</td>\n",
              "      <td>0</td>\n",
              "      <td>0</td>\n",
              "      <td>0</td>\n",
              "      <td>0</td>\n",
              "      <td>small</td>\n",
              "    </tr>\n",
              "  </tbody>\n",
              "</table>\n",
              "</div>\n",
              "      <button class=\"colab-df-convert\" onclick=\"convertToInteractive('df-93dcbe8e-8e87-4e18-8ec0-6a6334316c20')\"\n",
              "              title=\"Convert this dataframe to an interactive table.\"\n",
              "              style=\"display:none;\">\n",
              "        \n",
              "  <svg xmlns=\"http://www.w3.org/2000/svg\" height=\"24px\"viewBox=\"0 0 24 24\"\n",
              "       width=\"24px\">\n",
              "    <path d=\"M0 0h24v24H0V0z\" fill=\"none\"/>\n",
              "    <path d=\"M18.56 5.44l.94 2.06.94-2.06 2.06-.94-2.06-.94-.94-2.06-.94 2.06-2.06.94zm-11 1L8.5 8.5l.94-2.06 2.06-.94-2.06-.94L8.5 2.5l-.94 2.06-2.06.94zm10 10l.94 2.06.94-2.06 2.06-.94-2.06-.94-.94-2.06-.94 2.06-2.06.94z\"/><path d=\"M17.41 7.96l-1.37-1.37c-.4-.4-.92-.59-1.43-.59-.52 0-1.04.2-1.43.59L10.3 9.45l-7.72 7.72c-.78.78-.78 2.05 0 2.83L4 21.41c.39.39.9.59 1.41.59.51 0 1.02-.2 1.41-.59l7.78-7.78 2.81-2.81c.8-.78.8-2.07 0-2.86zM5.41 20L4 18.59l7.72-7.72 1.47 1.35L5.41 20z\"/>\n",
              "  </svg>\n",
              "      </button>\n",
              "      \n",
              "  <style>\n",
              "    .colab-df-container {\n",
              "      display:flex;\n",
              "      flex-wrap:wrap;\n",
              "      gap: 12px;\n",
              "    }\n",
              "\n",
              "    .colab-df-convert {\n",
              "      background-color: #E8F0FE;\n",
              "      border: none;\n",
              "      border-radius: 50%;\n",
              "      cursor: pointer;\n",
              "      display: none;\n",
              "      fill: #1967D2;\n",
              "      height: 32px;\n",
              "      padding: 0 0 0 0;\n",
              "      width: 32px;\n",
              "    }\n",
              "\n",
              "    .colab-df-convert:hover {\n",
              "      background-color: #E2EBFA;\n",
              "      box-shadow: 0px 1px 2px rgba(60, 64, 67, 0.3), 0px 1px 3px 1px rgba(60, 64, 67, 0.15);\n",
              "      fill: #174EA6;\n",
              "    }\n",
              "\n",
              "    [theme=dark] .colab-df-convert {\n",
              "      background-color: #3B4455;\n",
              "      fill: #D2E3FC;\n",
              "    }\n",
              "\n",
              "    [theme=dark] .colab-df-convert:hover {\n",
              "      background-color: #434B5C;\n",
              "      box-shadow: 0px 1px 3px 1px rgba(0, 0, 0, 0.15);\n",
              "      filter: drop-shadow(0px 1px 2px rgba(0, 0, 0, 0.3));\n",
              "      fill: #FFFFFF;\n",
              "    }\n",
              "  </style>\n",
              "\n",
              "      <script>\n",
              "        const buttonEl =\n",
              "          document.querySelector('#df-93dcbe8e-8e87-4e18-8ec0-6a6334316c20 button.colab-df-convert');\n",
              "        buttonEl.style.display =\n",
              "          google.colab.kernel.accessAllowed ? 'block' : 'none';\n",
              "\n",
              "        async function convertToInteractive(key) {\n",
              "          const element = document.querySelector('#df-93dcbe8e-8e87-4e18-8ec0-6a6334316c20');\n",
              "          const dataTable =\n",
              "            await google.colab.kernel.invokeFunction('convertToInteractive',\n",
              "                                                     [key], {});\n",
              "          if (!dataTable) return;\n",
              "\n",
              "          const docLinkHtml = 'Like what you see? Visit the ' +\n",
              "            '<a target=\"_blank\" href=https://colab.research.google.com/notebooks/data_table.ipynb>data table notebook</a>'\n",
              "            + ' to learn more about interactive tables.';\n",
              "          element.innerHTML = '';\n",
              "          dataTable['output_type'] = 'display_data';\n",
              "          await google.colab.output.renderOutput(dataTable, element);\n",
              "          const docLink = document.createElement('div');\n",
              "          docLink.innerHTML = docLinkHtml;\n",
              "          element.appendChild(docLink);\n",
              "        }\n",
              "      </script>\n",
              "    </div>\n",
              "  </div>\n",
              "  "
            ]
          },
          "metadata": {},
          "execution_count": 4
        }
      ]
    },
    {
      "cell_type": "code",
      "source": [
        "df.info()"
      ],
      "metadata": {
        "colab": {
          "base_uri": "https://localhost:8080/"
        },
        "id": "on-Ek_NQYvQI",
        "outputId": "9034733c-866e-41da-dcc1-ba4df83ea3dd"
      },
      "execution_count": null,
      "outputs": [
        {
          "output_type": "stream",
          "name": "stdout",
          "text": [
            "<class 'pandas.core.frame.DataFrame'>\n",
            "RangeIndex: 517 entries, 0 to 516\n",
            "Data columns (total 31 columns):\n",
            " #   Column         Non-Null Count  Dtype  \n",
            "---  ------         --------------  -----  \n",
            " 0   month          517 non-null    object \n",
            " 1   day            517 non-null    object \n",
            " 2   FFMC           517 non-null    float64\n",
            " 3   DMC            517 non-null    float64\n",
            " 4   DC             517 non-null    float64\n",
            " 5   ISI            517 non-null    float64\n",
            " 6   temp           517 non-null    float64\n",
            " 7   RH             517 non-null    int64  \n",
            " 8   wind           517 non-null    float64\n",
            " 9   rain           517 non-null    float64\n",
            " 10  area           517 non-null    float64\n",
            " 11  dayfri         517 non-null    int64  \n",
            " 12  daymon         517 non-null    int64  \n",
            " 13  daysat         517 non-null    int64  \n",
            " 14  daysun         517 non-null    int64  \n",
            " 15  daythu         517 non-null    int64  \n",
            " 16  daytue         517 non-null    int64  \n",
            " 17  daywed         517 non-null    int64  \n",
            " 18  monthapr       517 non-null    int64  \n",
            " 19  monthaug       517 non-null    int64  \n",
            " 20  monthdec       517 non-null    int64  \n",
            " 21  monthfeb       517 non-null    int64  \n",
            " 22  monthjan       517 non-null    int64  \n",
            " 23  monthjul       517 non-null    int64  \n",
            " 24  monthjun       517 non-null    int64  \n",
            " 25  monthmar       517 non-null    int64  \n",
            " 26  monthmay       517 non-null    int64  \n",
            " 27  monthnov       517 non-null    int64  \n",
            " 28  monthoct       517 non-null    int64  \n",
            " 29  monthsep       517 non-null    int64  \n",
            " 30  size_category  517 non-null    object \n",
            "dtypes: float64(8), int64(20), object(3)\n",
            "memory usage: 125.3+ KB\n"
          ]
        }
      ]
    },
    {
      "cell_type": "markdown",
      "source": [
        "**EDA & Feature Engineering**"
      ],
      "metadata": {
        "id": "NxUnxYUsZ5wG"
      }
    },
    {
      "cell_type": "code",
      "source": [
        "df.isna().sum()"
      ],
      "metadata": {
        "colab": {
          "base_uri": "https://localhost:8080/"
        },
        "id": "IlHhfUmXZwJg",
        "outputId": "341e4b6a-f850-494a-83ff-82b41cf4c53e"
      },
      "execution_count": null,
      "outputs": [
        {
          "output_type": "execute_result",
          "data": {
            "text/plain": [
              "month            0\n",
              "day              0\n",
              "FFMC             0\n",
              "DMC              0\n",
              "DC               0\n",
              "ISI              0\n",
              "temp             0\n",
              "RH               0\n",
              "wind             0\n",
              "rain             0\n",
              "area             0\n",
              "dayfri           0\n",
              "daymon           0\n",
              "daysat           0\n",
              "daysun           0\n",
              "daythu           0\n",
              "daytue           0\n",
              "daywed           0\n",
              "monthapr         0\n",
              "monthaug         0\n",
              "monthdec         0\n",
              "monthfeb         0\n",
              "monthjan         0\n",
              "monthjul         0\n",
              "monthjun         0\n",
              "monthmar         0\n",
              "monthmay         0\n",
              "monthnov         0\n",
              "monthoct         0\n",
              "monthsep         0\n",
              "size_category    0\n",
              "dtype: int64"
            ]
          },
          "metadata": {},
          "execution_count": 6
        }
      ]
    },
    {
      "cell_type": "code",
      "source": [
        "plt.rcParams['figure.figsize']=(12,6)\n",
        "sns.heatmap(df.isna(), cmap =('gist_heat'), yticklabels=False)"
      ],
      "metadata": {
        "colab": {
          "base_uri": "https://localhost:8080/",
          "height": 453
        },
        "id": "NsusQ9_tZ_O3",
        "outputId": "a82e31f7-3749-4764-ebd8-ed95e6d3f7ac"
      },
      "execution_count": null,
      "outputs": [
        {
          "output_type": "execute_result",
          "data": {
            "text/plain": [
              "<matplotlib.axes._subplots.AxesSubplot at 0x7f6c126b6ed0>"
            ]
          },
          "metadata": {},
          "execution_count": 7
        },
        {
          "output_type": "display_data",
          "data": {
            "text/plain": [
              "<Figure size 864x432 with 2 Axes>"
            ],
            "image/png": "[encoded data removed]"
          },
          "metadata": {
            "needs_background": "light"
          }
        }
      ]
    },
    {
      "cell_type": "code",
      "source": [
        "df.dtypes"
      ],
      "metadata": {
        "colab": {
          "base_uri": "https://localhost:8080/"
        },
        "id": "sCLDXc0Waynh",
        "outputId": "5f968450-75a7-4f26-ab2b-4dc3ccc277af"
      },
      "execution_count": null,
      "outputs": [
        {
          "output_type": "execute_result",
          "data": {
            "text/plain": [
              "month             object\n",
              "day               object\n",
              "FFMC             float64\n",
              "DMC              float64\n",
              "DC               float64\n",
              "ISI              float64\n",
              "temp             float64\n",
              "RH                 int64\n",
              "wind             float64\n",
              "rain             float64\n",
              "area             float64\n",
              "dayfri             int64\n",
              "daymon             int64\n",
              "daysat             int64\n",
              "daysun             int64\n",
              "daythu             int64\n",
              "daytue             int64\n",
              "daywed             int64\n",
              "monthapr           int64\n",
              "monthaug           int64\n",
              "monthdec           int64\n",
              "monthfeb           int64\n",
              "monthjan           int64\n",
              "monthjul           int64\n",
              "monthjun           int64\n",
              "monthmar           int64\n",
              "monthmay           int64\n",
              "monthnov           int64\n",
              "monthoct           int64\n",
              "monthsep           int64\n",
              "size_category     object\n",
              "dtype: object"
            ]
          },
          "metadata": {},
          "execution_count": 8
        }
      ]
    },
    {
      "cell_type": "markdown",
      "source": [
        "**Data Visualisation**"
      ],
      "metadata": {
        "id": "OIjdSj28bish"
      }
    },
    {
      "cell_type": "code",
      "source": [
        "#Target variable\n",
        "y_count = df.size_category.value_counts().reset_index().rename(columns={'index':'size_category', 'size_category':'counts'})"
      ],
      "metadata": {
        "id": "dAztqgZmcPaS"
      },
      "execution_count": null,
      "outputs": []
    },
    {
      "cell_type": "code",
      "source": [
        "plt.pie(y_count.counts, labels=y_count['size_category'], shadow = True, autopct='%1.2f%%', explode=(0,0.2), radius=1.5)\n",
        "y_count"
      ],
      "metadata": {
        "colab": {
          "base_uri": "https://localhost:8080/",
          "height": 545
        },
        "id": "EF6HZwOxa9H3",
        "outputId": "7adbb4a8-d0f1-4514-fae1-1e27889043e1"
      },
      "execution_count": null,
      "outputs": [
        {
          "output_type": "execute_result",
          "data": {
            "text/plain": [
              "  size_category  counts\n",
              "0         small     378\n",
              "1         large     139"
            ],
            "text/html": [
              "\n",
              "  <div id=\"df-864aac60-b2b2-4cbe-89f0-04fa5c075425\">\n",
              "    <div class=\"colab-df-container\">\n",
              "      <div>\n",
              "<style scoped>\n",
              "    .dataframe tbody tr th:only-of-type {\n",
              "        vertical-align: middle;\n",
              "    }\n",
              "\n",
              "    .dataframe tbody tr th {\n",
              "        vertical-align: top;\n",
              "    }\n",
              "\n",
              "    .dataframe thead th {\n",
              "        text-align: right;\n",
              "    }\n",
              "</style>\n",
              "<table border=\"1\" class=\"dataframe\">\n",
              "  <thead>\n",
              "    <tr style=\"text-align: right;\">\n",
              "      <th></th>\n",
              "      <th>size_category</th>\n",
              "      <th>counts</th>\n",
              "    </tr>\n",
              "  </thead>\n",
              "  <tbody>\n",
              "    <tr>\n",
              "      <th>0</th>\n",
              "      <td>small</td>\n",
              "      <td>378</td>\n",
              "    </tr>\n",
              "    <tr>\n",
              "      <th>1</th>\n",
              "      <td>large</td>\n",
              "      <td>139</td>\n",
              "    </tr>\n",
              "  </tbody>\n",
              "</table>\n",
              "</div>\n",
              "      <button class=\"colab-df-convert\" onclick=\"convertToInteractive('df-864aac60-b2b2-4cbe-89f0-04fa5c075425')\"\n",
              "              title=\"Convert this dataframe to an interactive table.\"\n",
              "              style=\"display:none;\">\n",
              "        \n",
              "  <svg xmlns=\"http://www.w3.org/2000/svg\" height=\"24px\"viewBox=\"0 0 24 24\"\n",
              "       width=\"24px\">\n",
              "    <path d=\"M0 0h24v24H0V0z\" fill=\"none\"/>\n",
              "    <path d=\"M18.56 5.44l.94 2.06.94-2.06 2.06-.94-2.06-.94-.94-2.06-.94 2.06-2.06.94zm-11 1L8.5 8.5l.94-2.06 2.06-.94-2.06-.94L8.5 2.5l-.94 2.06-2.06.94zm10 10l.94 2.06.94-2.06 2.06-.94-2.06-.94-.94-2.06-.94 2.06-2.06.94z\"/><path d=\"M17.41 7.96l-1.37-1.37c-.4-.4-.92-.59-1.43-.59-.52 0-1.04.2-1.43.59L10.3 9.45l-7.72 7.72c-.78.78-.78 2.05 0 2.83L4 21.41c.39.39.9.59 1.41.59.51 0 1.02-.2 1.41-.59l7.78-7.78 2.81-2.81c.8-.78.8-2.07 0-2.86zM5.41 20L4 18.59l7.72-7.72 1.47 1.35L5.41 20z\"/>\n",
              "  </svg>\n",
              "      </button>\n",
              "      \n",
              "  <style>\n",
              "    .colab-df-container {\n",
              "      display:flex;\n",
              "      flex-wrap:wrap;\n",
              "      gap: 12px;\n",
              "    }\n",
              "\n",
              "    .colab-df-convert {\n",
              "      background-color: #E8F0FE;\n",
              "      border: none;\n",
              "      border-radius: 50%;\n",
              "      cursor: pointer;\n",
              "      display: none;\n",
              "      fill: #1967D2;\n",
              "      height: 32px;\n",
              "      padding: 0 0 0 0;\n",
              "      width: 32px;\n",
              "    }\n",
              "\n",
              "    .colab-df-convert:hover {\n",
              "      background-color: #E2EBFA;\n",
              "      box-shadow: 0px 1px 2px rgba(60, 64, 67, 0.3), 0px 1px 3px 1px rgba(60, 64, 67, 0.15);\n",
              "      fill: #174EA6;\n",
              "    }\n",
              "\n",
              "    [theme=dark] .colab-df-convert {\n",
              "      background-color: #3B4455;\n",
              "      fill: #D2E3FC;\n",
              "    }\n",
              "\n",
              "    [theme=dark] .colab-df-convert:hover {\n",
              "      background-color: #434B5C;\n",
              "      box-shadow: 0px 1px 3px 1px rgba(0, 0, 0, 0.15);\n",
              "      filter: drop-shadow(0px 1px 2px rgba(0, 0, 0, 0.3));\n",
              "      fill: #FFFFFF;\n",
              "    }\n",
              "  </style>\n",
              "\n",
              "      <script>\n",
              "        const buttonEl =\n",
              "          document.querySelector('#df-864aac60-b2b2-4cbe-89f0-04fa5c075425 button.colab-df-convert');\n",
              "        buttonEl.style.display =\n",
              "          google.colab.kernel.accessAllowed ? 'block' : 'none';\n",
              "\n",
              "        async function convertToInteractive(key) {\n",
              "          const element = document.querySelector('#df-864aac60-b2b2-4cbe-89f0-04fa5c075425');\n",
              "          const dataTable =\n",
              "            await google.colab.kernel.invokeFunction('convertToInteractive',\n",
              "                                                     [key], {});\n",
              "          if (!dataTable) return;\n",
              "\n",
              "          const docLinkHtml = 'Like what you see? Visit the ' +\n",
              "            '<a target=\"_blank\" href=https://colab.research.google.com/notebooks/data_table.ipynb>data table notebook</a>'\n",
              "            + ' to learn more about interactive tables.';\n",
              "          element.innerHTML = '';\n",
              "          dataTable['output_type'] = 'display_data';\n",
              "          await google.colab.output.renderOutput(dataTable, element);\n",
              "          const docLink = document.createElement('div');\n",
              "          docLink.innerHTML = docLinkHtml;\n",
              "          element.appendChild(docLink);\n",
              "        }\n",
              "      </script>\n",
              "    </div>\n",
              "  </div>\n",
              "  "
            ]
          },
          "metadata": {},
          "execution_count": 10
        },
        {
          "output_type": "display_data",
          "data": {
            "text/plain": [
              "<Figure size 864x432 with 1 Axes>"
            ],
            "image/png": "[encoded data removed]"
          },
          "metadata": {}
        }
      ]
    },
    {
      "cell_type": "code",
      "source": [
        "#Other features with target variable\n",
        "month_df = df.groupby(['size_category', 'month']).size().reset_index().rename(columns={0:'count'}).sort_values('count', ascending=False)\n",
        "month_df.head(10)"
      ],
      "metadata": {
        "colab": {
          "base_uri": "https://localhost:8080/",
          "height": 363
        },
        "id": "u51ffu9JdbBH",
        "outputId": "f9f58c36-b169-45c5-d8bf-c1d2632b781a"
      },
      "execution_count": null,
      "outputs": [
        {
          "output_type": "execute_result",
          "data": {
            "text/plain": [
              "   size_category month  count\n",
              "11         small   aug    141\n",
              "21         small   sep    121\n",
              "9          large   sep     51\n",
              "1          large   aug     43\n",
              "17         small   mar     42\n",
              "15         small   jul     23\n",
              "16         small   jun     14\n",
              "13         small   feb     14\n",
              "6          large   mar     12\n",
              "20         small   oct     11"
            ],
            "text/html": [
              "\n",
              "  <div id=\"df-53ebd9e6-1139-40da-834d-f868811ecfd2\">\n",
              "    <div class=\"colab-df-container\">\n",
              "      <div>\n",
              "<style scoped>\n",
              "    .dataframe tbody tr th:only-of-type {\n",
              "        vertical-align: middle;\n",
              "    }\n",
              "\n",
              "    .dataframe tbody tr th {\n",
              "        vertical-align: top;\n",
              "    }\n",
              "\n",
              "    .dataframe thead th {\n",
              "        text-align: right;\n",
              "    }\n",
              "</style>\n",
              "<table border=\"1\" class=\"dataframe\">\n",
              "  <thead>\n",
              "    <tr style=\"text-align: right;\">\n",
              "      <th></th>\n",
              "      <th>size_category</th>\n",
              "      <th>month</th>\n",
              "      <th>count</th>\n",
              "    </tr>\n",
              "  </thead>\n",
              "  <tbody>\n",
              "    <tr>\n",
              "      <th>11</th>\n",
              "      <td>small</td>\n",
              "      <td>aug</td>\n",
              "      <td>141</td>\n",
              "    </tr>\n",
              "    <tr>\n",
              "      <th>21</th>\n",
              "      <td>small</td>\n",
              "      <td>sep</td>\n",
              "      <td>121</td>\n",
              "    </tr>\n",
              "    <tr>\n",
              "      <th>9</th>\n",
              "      <td>large</td>\n",
              "      <td>sep</td>\n",
              "      <td>51</td>\n",
              "    </tr>\n",
              "    <tr>\n",
              "      <th>1</th>\n",
              "      <td>large</td>\n",
              "      <td>aug</td>\n",
              "      <td>43</td>\n",
              "    </tr>\n",
              "    <tr>\n",
              "      <th>17</th>\n",
              "      <td>small</td>\n",
              "      <td>mar</td>\n",
              "      <td>42</td>\n",
              "    </tr>\n",
              "    <tr>\n",
              "      <th>15</th>\n",
              "      <td>small</td>\n",
              "      <td>jul</td>\n",
              "      <td>23</td>\n",
              "    </tr>\n",
              "    <tr>\n",
              "      <th>16</th>\n",
              "      <td>small</td>\n",
              "      <td>jun</td>\n",
              "      <td>14</td>\n",
              "    </tr>\n",
              "    <tr>\n",
              "      <th>13</th>\n",
              "      <td>small</td>\n",
              "      <td>feb</td>\n",
              "      <td>14</td>\n",
              "    </tr>\n",
              "    <tr>\n",
              "      <th>6</th>\n",
              "      <td>large</td>\n",
              "      <td>mar</td>\n",
              "      <td>12</td>\n",
              "    </tr>\n",
              "    <tr>\n",
              "      <th>20</th>\n",
              "      <td>small</td>\n",
              "      <td>oct</td>\n",
              "      <td>11</td>\n",
              "    </tr>\n",
              "  </tbody>\n",
              "</table>\n",
              "</div>\n",
              "      <button class=\"colab-df-convert\" onclick=\"convertToInteractive('df-53ebd9e6-1139-40da-834d-f868811ecfd2')\"\n",
              "              title=\"Convert this dataframe to an interactive table.\"\n",
              "              style=\"display:none;\">\n",
              "        \n",
              "  <svg xmlns=\"http://www.w3.org/2000/svg\" height=\"24px\"viewBox=\"0 0 24 24\"\n",
              "       width=\"24px\">\n",
              "    <path d=\"M0 0h24v24H0V0z\" fill=\"none\"/>\n",
              "    <path d=\"M18.56 5.44l.94 2.06.94-2.06 2.06-.94-2.06-.94-.94-2.06-.94 2.06-2.06.94zm-11 1L8.5 8.5l.94-2.06 2.06-.94-2.06-.94L8.5 2.5l-.94 2.06-2.06.94zm10 10l.94 2.06.94-2.06 2.06-.94-2.06-.94-.94-2.06-.94 2.06-2.06.94z\"/><path d=\"M17.41 7.96l-1.37-1.37c-.4-.4-.92-.59-1.43-.59-.52 0-1.04.2-1.43.59L10.3 9.45l-7.72 7.72c-.78.78-.78 2.05 0 2.83L4 21.41c.39.39.9.59 1.41.59.51 0 1.02-.2 1.41-.59l7.78-7.78 2.81-2.81c.8-.78.8-2.07 0-2.86zM5.41 20L4 18.59l7.72-7.72 1.47 1.35L5.41 20z\"/>\n",
              "  </svg>\n",
              "      </button>\n",
              "      \n",
              "  <style>\n",
              "    .colab-df-container {\n",
              "      display:flex;\n",
              "      flex-wrap:wrap;\n",
              "      gap: 12px;\n",
              "    }\n",
              "\n",
              "    .colab-df-convert {\n",
              "      background-color: #E8F0FE;\n",
              "      border: none;\n",
              "      border-radius: 50%;\n",
              "      cursor: pointer;\n",
              "      display: none;\n",
              "      fill: #1967D2;\n",
              "      height: 32px;\n",
              "      padding: 0 0 0 0;\n",
              "      width: 32px;\n",
              "    }\n",
              "\n",
              "    .colab-df-convert:hover {\n",
              "      background-color: #E2EBFA;\n",
              "      box-shadow: 0px 1px 2px rgba(60, 64, 67, 0.3), 0px 1px 3px 1px rgba(60, 64, 67, 0.15);\n",
              "      fill: #174EA6;\n",
              "    }\n",
              "\n",
              "    [theme=dark] .colab-df-convert {\n",
              "      background-color: #3B4455;\n",
              "      fill: #D2E3FC;\n",
              "    }\n",
              "\n",
              "    [theme=dark] .colab-df-convert:hover {\n",
              "      background-color: #434B5C;\n",
              "      box-shadow: 0px 1px 3px 1px rgba(0, 0, 0, 0.15);\n",
              "      filter: drop-shadow(0px 1px 2px rgba(0, 0, 0, 0.3));\n",
              "      fill: #FFFFFF;\n",
              "    }\n",
              "  </style>\n",
              "\n",
              "      <script>\n",
              "        const buttonEl =\n",
              "          document.querySelector('#df-53ebd9e6-1139-40da-834d-f868811ecfd2 button.colab-df-convert');\n",
              "        buttonEl.style.display =\n",
              "          google.colab.kernel.accessAllowed ? 'block' : 'none';\n",
              "\n",
              "        async function convertToInteractive(key) {\n",
              "          const element = document.querySelector('#df-53ebd9e6-1139-40da-834d-f868811ecfd2');\n",
              "          const dataTable =\n",
              "            await google.colab.kernel.invokeFunction('convertToInteractive',\n",
              "                                                     [key], {});\n",
              "          if (!dataTable) return;\n",
              "\n",
              "          const docLinkHtml = 'Like what you see? Visit the ' +\n",
              "            '<a target=\"_blank\" href=https://colab.research.google.com/notebooks/data_table.ipynb>data table notebook</a>'\n",
              "            + ' to learn more about interactive tables.';\n",
              "          element.innerHTML = '';\n",
              "          dataTable['output_type'] = 'display_data';\n",
              "          await google.colab.output.renderOutput(dataTable, element);\n",
              "          const docLink = document.createElement('div');\n",
              "          docLink.innerHTML = docLinkHtml;\n",
              "          element.appendChild(docLink);\n",
              "        }\n",
              "      </script>\n",
              "    </div>\n",
              "  </div>\n",
              "  "
            ]
          },
          "metadata": {},
          "execution_count": 11
        }
      ]
    },
    {
      "cell_type": "code",
      "source": [
        "sns.barplot(x='month', y = 'count', hue='size_category', data=month_df)\n",
        "plt.title(\"Num of fires in each month\", fontsize=17, y=1.02)"
      ],
      "metadata": {
        "colab": {
          "base_uri": "https://localhost:8080/",
          "height": 432
        },
        "id": "u4WMQMp1ezVj",
        "outputId": "752cffa9-8764-4880-cd72-84ff75372430"
      },
      "execution_count": null,
      "outputs": [
        {
          "output_type": "execute_result",
          "data": {
            "text/plain": [
              "Text(0.5, 1.02, 'Num of fires in each month')"
            ]
          },
          "metadata": {},
          "execution_count": 12
        },
        {
          "output_type": "display_data",
          "data": {
            "text/plain": [
              "<Figure size 864x432 with 1 Axes>"
            ],
            "image/png": "[encoded data removed]"
          },
          "metadata": {
            "needs_background": "light"
          }
        }
      ]
    },
    {
      "cell_type": "markdown",
      "source": [
        "**Observation:**\n",
        "- Aug month has seen highest number of small fires.\n",
        "- Whereas sep month has seen highest num of large fires.\n",
        "- Least num of fires occured in month of nov."
      ],
      "metadata": {
        "id": "OBIL7yg-gcEZ"
      }
    },
    {
      "cell_type": "code",
      "source": [
        "day_df = df.groupby(['size_category', 'day']).size().reset_index().rename(columns={0:'count'}).sort_values('count', ascending=False)\n",
        "day_df"
      ],
      "metadata": {
        "colab": {
          "base_uri": "https://localhost:8080/",
          "height": 488
        },
        "id": "xcKiG9w6fugw",
        "outputId": "eb1ead04-5add-4a50-d068-ef92988fdb07"
      },
      "execution_count": null,
      "outputs": [
        {
          "output_type": "execute_result",
          "data": {
            "text/plain": [
              "   size_category  day  count\n",
              "10         small  sun     68\n",
              "7          small  fri     64\n",
              "9          small  sat     58\n",
              "8          small  mon     55\n",
              "11         small  thu     48\n",
              "12         small  tue     44\n",
              "13         small  wed     41\n",
              "3          large  sun     27\n",
              "2          large  sat     26\n",
              "0          large  fri     21\n",
              "5          large  tue     20\n",
              "1          large  mon     19\n",
              "4          large  thu     13\n",
              "6          large  wed     13"
            ],
            "text/html": [
              "\n",
              "  <div id=\"df-82e74a73-ee54-4e61-b467-de48538fb9d5\">\n",
              "    <div class=\"colab-df-container\">\n",
              "      <div>\n",
              "<style scoped>\n",
              "    .dataframe tbody tr th:only-of-type {\n",
              "        vertical-align: middle;\n",
              "    }\n",
              "\n",
              "    .dataframe tbody tr th {\n",
              "        vertical-align: top;\n",
              "    }\n",
              "\n",
              "    .dataframe thead th {\n",
              "        text-align: right;\n",
              "    }\n",
              "</style>\n",
              "<table border=\"1\" class=\"dataframe\">\n",
              "  <thead>\n",
              "    <tr style=\"text-align: right;\">\n",
              "      <th></th>\n",
              "      <th>size_category</th>\n",
              "      <th>day</th>\n",
              "      <th>count</th>\n",
              "    </tr>\n",
              "  </thead>\n",
              "  <tbody>\n",
              "    <tr>\n",
              "      <th>10</th>\n",
              "      <td>small</td>\n",
              "      <td>sun</td>\n",
              "      <td>68</td>\n",
              "    </tr>\n",
              "    <tr>\n",
              "      <th>7</th>\n",
              "      <td>small</td>\n",
              "      <td>fri</td>\n",
              "      <td>64</td>\n",
              "    </tr>\n",
              "    <tr>\n",
              "      <th>9</th>\n",
              "      <td>small</td>\n",
              "      <td>sat</td>\n",
              "      <td>58</td>\n",
              "    </tr>\n",
              "    <tr>\n",
              "      <th>8</th>\n",
              "      <td>small</td>\n",
              "      <td>mon</td>\n",
              "      <td>55</td>\n",
              "    </tr>\n",
              "    <tr>\n",
              "      <th>11</th>\n",
              "      <td>small</td>\n",
              "      <td>thu</td>\n",
              "      <td>48</td>\n",
              "    </tr>\n",
              "    <tr>\n",
              "      <th>12</th>\n",
              "      <td>small</td>\n",
              "      <td>tue</td>\n",
              "      <td>44</td>\n",
              "    </tr>\n",
              "    <tr>\n",
              "      <th>13</th>\n",
              "      <td>small</td>\n",
              "      <td>wed</td>\n",
              "      <td>41</td>\n",
              "    </tr>\n",
              "    <tr>\n",
              "      <th>3</th>\n",
              "      <td>large</td>\n",
              "      <td>sun</td>\n",
              "      <td>27</td>\n",
              "    </tr>\n",
              "    <tr>\n",
              "      <th>2</th>\n",
              "      <td>large</td>\n",
              "      <td>sat</td>\n",
              "      <td>26</td>\n",
              "    </tr>\n",
              "    <tr>\n",
              "      <th>0</th>\n",
              "      <td>large</td>\n",
              "      <td>fri</td>\n",
              "      <td>21</td>\n",
              "    </tr>\n",
              "    <tr>\n",
              "      <th>5</th>\n",
              "      <td>large</td>\n",
              "      <td>tue</td>\n",
              "      <td>20</td>\n",
              "    </tr>\n",
              "    <tr>\n",
              "      <th>1</th>\n",
              "      <td>large</td>\n",
              "      <td>mon</td>\n",
              "      <td>19</td>\n",
              "    </tr>\n",
              "    <tr>\n",
              "      <th>4</th>\n",
              "      <td>large</td>\n",
              "      <td>thu</td>\n",
              "      <td>13</td>\n",
              "    </tr>\n",
              "    <tr>\n",
              "      <th>6</th>\n",
              "      <td>large</td>\n",
              "      <td>wed</td>\n",
              "      <td>13</td>\n",
              "    </tr>\n",
              "  </tbody>\n",
              "</table>\n",
              "</div>\n",
              "      <button class=\"colab-df-convert\" onclick=\"convertToInteractive('df-82e74a73-ee54-4e61-b467-de48538fb9d5')\"\n",
              "              title=\"Convert this dataframe to an interactive table.\"\n",
              "              style=\"display:none;\">\n",
              "        \n",
              "  <svg xmlns=\"http://www.w3.org/2000/svg\" height=\"24px\"viewBox=\"0 0 24 24\"\n",
              "       width=\"24px\">\n",
              "    <path d=\"M0 0h24v24H0V0z\" fill=\"none\"/>\n",
              "    <path d=\"M18.56 5.44l.94 2.06.94-2.06 2.06-.94-2.06-.94-.94-2.06-.94 2.06-2.06.94zm-11 1L8.5 8.5l.94-2.06 2.06-.94-2.06-.94L8.5 2.5l-.94 2.06-2.06.94zm10 10l.94 2.06.94-2.06 2.06-.94-2.06-.94-.94-2.06-.94 2.06-2.06.94z\"/><path d=\"M17.41 7.96l-1.37-1.37c-.4-.4-.92-.59-1.43-.59-.52 0-1.04.2-1.43.59L10.3 9.45l-7.72 7.72c-.78.78-.78 2.05 0 2.83L4 21.41c.39.39.9.59 1.41.59.51 0 1.02-.2 1.41-.59l7.78-7.78 2.81-2.81c.8-.78.8-2.07 0-2.86zM5.41 20L4 18.59l7.72-7.72 1.47 1.35L5.41 20z\"/>\n",
              "  </svg>\n",
              "      </button>\n",
              "      \n",
              "  <style>\n",
              "    .colab-df-container {\n",
              "      display:flex;\n",
              "      flex-wrap:wrap;\n",
              "      gap: 12px;\n",
              "    }\n",
              "\n",
              "    .colab-df-convert {\n",
              "      background-color: #E8F0FE;\n",
              "      border: none;\n",
              "      border-radius: 50%;\n",
              "      cursor: pointer;\n",
              "      display: none;\n",
              "      fill: #1967D2;\n",
              "      height: 32px;\n",
              "      padding: 0 0 0 0;\n",
              "      width: 32px;\n",
              "    }\n",
              "\n",
              "    .colab-df-convert:hover {\n",
              "      background-color: #E2EBFA;\n",
              "      box-shadow: 0px 1px 2px rgba(60, 64, 67, 0.3), 0px 1px 3px 1px rgba(60, 64, 67, 0.15);\n",
              "      fill: #174EA6;\n",
              "    }\n",
              "\n",
              "    [theme=dark] .colab-df-convert {\n",
              "      background-color: #3B4455;\n",
              "      fill: #D2E3FC;\n",
              "    }\n",
              "\n",
              "    [theme=dark] .colab-df-convert:hover {\n",
              "      background-color: #434B5C;\n",
              "      box-shadow: 0px 1px 3px 1px rgba(0, 0, 0, 0.15);\n",
              "      filter: drop-shadow(0px 1px 2px rgba(0, 0, 0, 0.3));\n",
              "      fill: #FFFFFF;\n",
              "    }\n",
              "  </style>\n",
              "\n",
              "      <script>\n",
              "        const buttonEl =\n",
              "          document.querySelector('#df-82e74a73-ee54-4e61-b467-de48538fb9d5 button.colab-df-convert');\n",
              "        buttonEl.style.display =\n",
              "          google.colab.kernel.accessAllowed ? 'block' : 'none';\n",
              "\n",
              "        async function convertToInteractive(key) {\n",
              "          const element = document.querySelector('#df-82e74a73-ee54-4e61-b467-de48538fb9d5');\n",
              "          const dataTable =\n",
              "            await google.colab.kernel.invokeFunction('convertToInteractive',\n",
              "                                                     [key], {});\n",
              "          if (!dataTable) return;\n",
              "\n",
              "          const docLinkHtml = 'Like what you see? Visit the ' +\n",
              "            '<a target=\"_blank\" href=https://colab.research.google.com/notebooks/data_table.ipynb>data table notebook</a>'\n",
              "            + ' to learn more about interactive tables.';\n",
              "          element.innerHTML = '';\n",
              "          dataTable['output_type'] = 'display_data';\n",
              "          await google.colab.output.renderOutput(dataTable, element);\n",
              "          const docLink = document.createElement('div');\n",
              "          docLink.innerHTML = docLinkHtml;\n",
              "          element.appendChild(docLink);\n",
              "        }\n",
              "      </script>\n",
              "    </div>\n",
              "  </div>\n",
              "  "
            ]
          },
          "metadata": {},
          "execution_count": 13
        }
      ]
    },
    {
      "cell_type": "code",
      "source": [
        "sns.barplot(x='day', y = 'count', hue='size_category', data=day_df)\n",
        "plt.title(\"Num of fires on each day\", fontsize=17, y=1.02)"
      ],
      "metadata": {
        "colab": {
          "base_uri": "https://localhost:8080/",
          "height": 432
        },
        "id": "dsW4VfwihDv8",
        "outputId": "61bc4a44-160f-4f7b-a6e1-c3fdbfc98b1c"
      },
      "execution_count": null,
      "outputs": [
        {
          "output_type": "execute_result",
          "data": {
            "text/plain": [
              "Text(0.5, 1.02, 'Num of fires on each day')"
            ]
          },
          "metadata": {},
          "execution_count": 14
        },
        {
          "output_type": "display_data",
          "data": {
            "text/plain": [
              "<Figure size 864x432 with 1 Axes>"
            ],
            "image/png": "[encoded data removed]"
          },
          "metadata": {
            "needs_background": "light"
          }
        }
      ]
    },
    {
      "cell_type": "markdown",
      "source": [
        "**Observation:**\n",
        "- Highest num of small as well as large fires have occured on a Sunday.\n",
        "- Lowest num of small fires have occured on a Wednesday.\n",
        "- Lowest num of large fires have occured on a Wednesday and Thursday."
      ],
      "metadata": {
        "id": "p2Wf-L-LhjV5"
      }
    },
    {
      "cell_type": "markdown",
      "source": [
        "**Label Encoder**"
      ],
      "metadata": {
        "id": "fC-Go7gborSH"
      }
    },
    {
      "cell_type": "code",
      "source": [
        "labelencoder = LabelEncoder()\n",
        "df.iloc[:, -1] = labelencoder.fit_transform(df.iloc[:,-1])\n",
        "df['size_category']                                                 #1 for small, 0 for large"
      ],
      "metadata": {
        "colab": {
          "base_uri": "https://localhost:8080/"
        },
        "id": "4e1UNiq9hUny",
        "outputId": "6cbada9c-de59-4e84-f508-7ed5120a0206"
      },
      "execution_count": null,
      "outputs": [
        {
          "output_type": "execute_result",
          "data": {
            "text/plain": [
              "0      1\n",
              "1      1\n",
              "2      1\n",
              "3      1\n",
              "4      1\n",
              "      ..\n",
              "512    0\n",
              "513    0\n",
              "514    0\n",
              "515    1\n",
              "516    1\n",
              "Name: size_category, Length: 517, dtype: int64"
            ]
          },
          "metadata": {},
          "execution_count": 15
        }
      ]
    },
    {
      "cell_type": "code",
      "source": [
        "rain_df = df.groupby(['size_category', 'rain']).size().reset_index().rename(columns={0:'count'}).sort_values('count', ascending=False)\n",
        "rain_df"
      ],
      "metadata": {
        "colab": {
          "base_uri": "https://localhost:8080/",
          "height": 300
        },
        "id": "-7AwONo1zv_C",
        "outputId": "ac414b24-2aa0-46f1-c8cf-6eb935c26f64"
      },
      "execution_count": null,
      "outputs": [
        {
          "output_type": "execute_result",
          "data": {
            "text/plain": [
              "   size_category  rain  count\n",
              "2              1   0.0    371\n",
              "0              0   0.0    138\n",
              "3              1   0.2      2\n",
              "5              1   0.8      2\n",
              "1              0   6.4      1\n",
              "4              1   0.4      1\n",
              "6              1   1.0      1\n",
              "7              1   1.4      1"
            ],
            "text/html": [
              "\n",
              "  <div id=\"df-5111556a-a5f2-483d-99aa-c5f5ecaebc66\">\n",
              "    <div class=\"colab-df-container\">\n",
              "      <div>\n",
              "<style scoped>\n",
              "    .dataframe tbody tr th:only-of-type {\n",
              "        vertical-align: middle;\n",
              "    }\n",
              "\n",
              "    .dataframe tbody tr th {\n",
              "        vertical-align: top;\n",
              "    }\n",
              "\n",
              "    .dataframe thead th {\n",
              "        text-align: right;\n",
              "    }\n",
              "</style>\n",
              "<table border=\"1\" class=\"dataframe\">\n",
              "  <thead>\n",
              "    <tr style=\"text-align: right;\">\n",
              "      <th></th>\n",
              "      <th>size_category</th>\n",
              "      <th>rain</th>\n",
              "      <th>count</th>\n",
              "    </tr>\n",
              "  </thead>\n",
              "  <tbody>\n",
              "    <tr>\n",
              "      <th>2</th>\n",
              "      <td>1</td>\n",
              "      <td>0.0</td>\n",
              "      <td>371</td>\n",
              "    </tr>\n",
              "    <tr>\n",
              "      <th>0</th>\n",
              "      <td>0</td>\n",
              "      <td>0.0</td>\n",
              "      <td>138</td>\n",
              "    </tr>\n",
              "    <tr>\n",
              "      <th>3</th>\n",
              "      <td>1</td>\n",
              "      <td>0.2</td>\n",
              "      <td>2</td>\n",
              "    </tr>\n",
              "    <tr>\n",
              "      <th>5</th>\n",
              "      <td>1</td>\n",
              "      <td>0.8</td>\n",
              "      <td>2</td>\n",
              "    </tr>\n",
              "    <tr>\n",
              "      <th>1</th>\n",
              "      <td>0</td>\n",
              "      <td>6.4</td>\n",
              "      <td>1</td>\n",
              "    </tr>\n",
              "    <tr>\n",
              "      <th>4</th>\n",
              "      <td>1</td>\n",
              "      <td>0.4</td>\n",
              "      <td>1</td>\n",
              "    </tr>\n",
              "    <tr>\n",
              "      <th>6</th>\n",
              "      <td>1</td>\n",
              "      <td>1.0</td>\n",
              "      <td>1</td>\n",
              "    </tr>\n",
              "    <tr>\n",
              "      <th>7</th>\n",
              "      <td>1</td>\n",
              "      <td>1.4</td>\n",
              "      <td>1</td>\n",
              "    </tr>\n",
              "  </tbody>\n",
              "</table>\n",
              "</div>\n",
              "      <button class=\"colab-df-convert\" onclick=\"convertToInteractive('df-5111556a-a5f2-483d-99aa-c5f5ecaebc66')\"\n",
              "              title=\"Convert this dataframe to an interactive table.\"\n",
              "              style=\"display:none;\">\n",
              "        \n",
              "  <svg xmlns=\"http://www.w3.org/2000/svg\" height=\"24px\"viewBox=\"0 0 24 24\"\n",
              "       width=\"24px\">\n",
              "    <path d=\"M0 0h24v24H0V0z\" fill=\"none\"/>\n",
              "    <path d=\"M18.56 5.44l.94 2.06.94-2.06 2.06-.94-2.06-.94-.94-2.06-.94 2.06-2.06.94zm-11 1L8.5 8.5l.94-2.06 2.06-.94-2.06-.94L8.5 2.5l-.94 2.06-2.06.94zm10 10l.94 2.06.94-2.06 2.06-.94-2.06-.94-.94-2.06-.94 2.06-2.06.94z\"/><path d=\"M17.41 7.96l-1.37-1.37c-.4-.4-.92-.59-1.43-.59-.52 0-1.04.2-1.43.59L10.3 9.45l-7.72 7.72c-.78.78-.78 2.05 0 2.83L4 21.41c.39.39.9.59 1.41.59.51 0 1.02-.2 1.41-.59l7.78-7.78 2.81-2.81c.8-.78.8-2.07 0-2.86zM5.41 20L4 18.59l7.72-7.72 1.47 1.35L5.41 20z\"/>\n",
              "  </svg>\n",
              "      </button>\n",
              "      \n",
              "  <style>\n",
              "    .colab-df-container {\n",
              "      display:flex;\n",
              "      flex-wrap:wrap;\n",
              "      gap: 12px;\n",
              "    }\n",
              "\n",
              "    .colab-df-convert {\n",
              "      background-color: #E8F0FE;\n",
              "      border: none;\n",
              "      border-radius: 50%;\n",
              "      cursor: pointer;\n",
              "      display: none;\n",
              "      fill: #1967D2;\n",
              "      height: 32px;\n",
              "      padding: 0 0 0 0;\n",
              "      width: 32px;\n",
              "    }\n",
              "\n",
              "    .colab-df-convert:hover {\n",
              "      background-color: #E2EBFA;\n",
              "      box-shadow: 0px 1px 2px rgba(60, 64, 67, 0.3), 0px 1px 3px 1px rgba(60, 64, 67, 0.15);\n",
              "      fill: #174EA6;\n",
              "    }\n",
              "\n",
              "    [theme=dark] .colab-df-convert {\n",
              "      background-color: #3B4455;\n",
              "      fill: #D2E3FC;\n",
              "    }\n",
              "\n",
              "    [theme=dark] .colab-df-convert:hover {\n",
              "      background-color: #434B5C;\n",
              "      box-shadow: 0px 1px 3px 1px rgba(0, 0, 0, 0.15);\n",
              "      filter: drop-shadow(0px 1px 2px rgba(0, 0, 0, 0.3));\n",
              "      fill: #FFFFFF;\n",
              "    }\n",
              "  </style>\n",
              "\n",
              "      <script>\n",
              "        const buttonEl =\n",
              "          document.querySelector('#df-5111556a-a5f2-483d-99aa-c5f5ecaebc66 button.colab-df-convert');\n",
              "        buttonEl.style.display =\n",
              "          google.colab.kernel.accessAllowed ? 'block' : 'none';\n",
              "\n",
              "        async function convertToInteractive(key) {\n",
              "          const element = document.querySelector('#df-5111556a-a5f2-483d-99aa-c5f5ecaebc66');\n",
              "          const dataTable =\n",
              "            await google.colab.kernel.invokeFunction('convertToInteractive',\n",
              "                                                     [key], {});\n",
              "          if (!dataTable) return;\n",
              "\n",
              "          const docLinkHtml = 'Like what you see? Visit the ' +\n",
              "            '<a target=\"_blank\" href=https://colab.research.google.com/notebooks/data_table.ipynb>data table notebook</a>'\n",
              "            + ' to learn more about interactive tables.';\n",
              "          element.innerHTML = '';\n",
              "          dataTable['output_type'] = 'display_data';\n",
              "          await google.colab.output.renderOutput(dataTable, element);\n",
              "          const docLink = document.createElement('div');\n",
              "          docLink.innerHTML = docLinkHtml;\n",
              "          element.appendChild(docLink);\n",
              "        }\n",
              "      </script>\n",
              "    </div>\n",
              "  </div>\n",
              "  "
            ]
          },
          "metadata": {},
          "execution_count": 16
        }
      ]
    },
    {
      "cell_type": "code",
      "source": [
        "sns.barplot(x='rain', y='count', hue='size_category', data=rain_df)\n",
        "plt.title(\"Rainfall level in diff category of forest\", y=1.02, fontsize=17)"
      ],
      "metadata": {
        "colab": {
          "base_uri": "https://localhost:8080/",
          "height": 432
        },
        "id": "DQ7Aa-Yg0hak",
        "outputId": "ed6f70ab-2ac6-4124-cc3b-7aa8df0cbf69"
      },
      "execution_count": null,
      "outputs": [
        {
          "output_type": "execute_result",
          "data": {
            "text/plain": [
              "Text(0.5, 1.02, 'Rainfall level in diff category of forest')"
            ]
          },
          "metadata": {},
          "execution_count": 17
        },
        {
          "output_type": "display_data",
          "data": {
            "text/plain": [
              "<Figure size 864x432 with 1 Axes>"
            ],
            "image/png": "[encoded data removed]"
          },
          "metadata": {
            "needs_background": "light"
          }
        }
      ]
    },
    {
      "cell_type": "markdown",
      "source": [
        "**Observation:**\n",
        "- 0 represents large forest fire, 1 represents small forest fire.\n",
        "- Majority of the forests have almost no rainfall.\n",
        "- Highest rainfall a forest has was of 6.4 and it comes under a large forest fire catogory."
      ],
      "metadata": {
        "id": "QXgMVGeu1C5Q"
      }
    },
    {
      "cell_type": "code",
      "source": [
        "sns.distplot(df[df['size_category']==0]['RH'])\n",
        "sns.distplot(df[df['size_category']==1]['RH'])                 #orange for small fire, blue for small fire\n",
        "plt.title(\"RH for size category\", y=1.01, fontsize=17)\n",
        "legend_drawn_flag = True\n",
        "plt.legend([\"large\", \"small\"], loc=0, frameon=legend_drawn_flag)"
      ],
      "metadata": {
        "colab": {
          "base_uri": "https://localhost:8080/",
          "height": 428
        },
        "id": "WTeiN4iEo1cS",
        "outputId": "4c6d332c-d0cc-4bfd-f8bc-d64279581b39"
      },
      "execution_count": null,
      "outputs": [
        {
          "output_type": "execute_result",
          "data": {
            "text/plain": [
              "<matplotlib.legend.Legend at 0x7f6c0f582090>"
            ]
          },
          "metadata": {},
          "execution_count": 18
        },
        {
          "output_type": "display_data",
          "data": {
            "text/plain": [
              "<Figure size 864x432 with 1 Axes>"
            ],
            "image/png": "[encoded data removed]"
          },
          "metadata": {
            "needs_background": "light"
          }
        }
      ]
    },
    {
      "cell_type": "markdown",
      "source": [
        "- Fairly normal data.\n",
        "- Will have to check for outliers with diff method."
      ],
      "metadata": {
        "id": "rjCGeNA_qeao"
      }
    },
    {
      "cell_type": "code",
      "source": [
        "sns.distplot(df[df['size_category']==0]['FFMC'])\n",
        "sns.distplot(df[df['size_category']==1]['FFMC'])                 #orange for small fire, blue for small fire\n",
        "plt.title(\"FFMC for diff size category\", y=1.01, fontsize=17)\n",
        "legend_drawn_flag = True\n",
        "plt.legend([\"large\", \"small\"], loc=0, frameon=legend_drawn_flag)"
      ],
      "metadata": {
        "colab": {
          "base_uri": "https://localhost:8080/",
          "height": 428
        },
        "id": "kqJogG_9pWG2",
        "outputId": "29ffba31-ebcb-448a-a782-140311434160"
      },
      "execution_count": null,
      "outputs": [
        {
          "output_type": "execute_result",
          "data": {
            "text/plain": [
              "<matplotlib.legend.Legend at 0x7f6c0f679fd0>"
            ]
          },
          "metadata": {},
          "execution_count": 19
        },
        {
          "output_type": "display_data",
          "data": {
            "text/plain": [
              "<Figure size 864x432 with 1 Axes>"
            ],
            "image/png": "[encoded data removed]"
          },
          "metadata": {
            "needs_background": "light"
          }
        }
      ]
    },
    {
      "cell_type": "markdown",
      "source": [
        "- Highly skewed data.\n",
        "- There are definitly outliers in this variable."
      ],
      "metadata": {
        "id": "snsnZ9oWqRhr"
      }
    },
    {
      "cell_type": "code",
      "source": [
        "sns.distplot(df[df['size_category']==0]['DMC'])\n",
        "sns.distplot(df[df['size_category']==1]['DMC'])                 #orange for small fire, blue for large fire\n",
        "plt.title(\"DMC for size category\", y=1.01, fontsize=17)\n",
        "legend_drawn_flag = True\n",
        "plt.legend([\"large\", \"small\"], loc=0, frameon=legend_drawn_flag)"
      ],
      "metadata": {
        "colab": {
          "base_uri": "https://localhost:8080/",
          "height": 428
        },
        "id": "HBmivL7YqOlB",
        "outputId": "1641b0a8-d8ed-4fcd-c4e2-74d0e41904bc"
      },
      "execution_count": null,
      "outputs": [
        {
          "output_type": "execute_result",
          "data": {
            "text/plain": [
              "<matplotlib.legend.Legend at 0x7f6c0f3800d0>"
            ]
          },
          "metadata": {},
          "execution_count": 20
        },
        {
          "output_type": "display_data",
          "data": {
            "text/plain": [
              "<Figure size 864x432 with 1 Axes>"
            ],
            "image/png": "[encoded data removed]"
          },
          "metadata": {
            "needs_background": "light"
          }
        }
      ]
    },
    {
      "cell_type": "code",
      "source": [
        "sns.distplot(df[df['size_category']==0]['DC'])\n",
        "sns.distplot(df[df['size_category']==1]['DC'])                 #orange for small fire, blue for large fire\n",
        "plt.title(\"DC for size category\", y=1.01, fontsize=17)\n",
        "legend_drawn_flag = True\n",
        "plt.legend([\"large\", \"small\"], loc=0, frameon=legend_drawn_flag)"
      ],
      "metadata": {
        "colab": {
          "base_uri": "https://localhost:8080/",
          "height": 428
        },
        "id": "xSkHi-2oqrv8",
        "outputId": "9a7f3311-208c-49ad-c9fa-0bed7972e5ba"
      },
      "execution_count": null,
      "outputs": [
        {
          "output_type": "execute_result",
          "data": {
            "text/plain": [
              "<matplotlib.legend.Legend at 0x7f6c0f839f90>"
            ]
          },
          "metadata": {},
          "execution_count": 21
        },
        {
          "output_type": "display_data",
          "data": {
            "text/plain": [
              "<Figure size 864x432 with 1 Axes>"
            ],
            "image/png": "[encoded data removed]"
          },
          "metadata": {
            "needs_background": "light"
          }
        }
      ]
    },
    {
      "cell_type": "markdown",
      "source": [
        "- Highly skewed data.\n",
        "- Outliers are present."
      ],
      "metadata": {
        "id": "WZhcAawgt7AQ"
      }
    },
    {
      "cell_type": "code",
      "source": [
        "sns.distplot(df[df['size_category']==0]['ISI'])\n",
        "sns.distplot(df[df['size_category']==1]['ISI'])                 #orange for small fire, blue for large fire\n",
        "plt.title(\"ISI for size category\", y=1.01, fontsize=17)\n",
        "legend_drawn_flag = True\n",
        "plt.legend([\"large\", \"small\"], loc=0, frameon=legend_drawn_flag)"
      ],
      "metadata": {
        "colab": {
          "base_uri": "https://localhost:8080/",
          "height": 428
        },
        "id": "uzHntUY8t3qX",
        "outputId": "ebc6f415-7bd6-4967-b518-a5913eb6e00c"
      },
      "execution_count": null,
      "outputs": [
        {
          "output_type": "execute_result",
          "data": {
            "text/plain": [
              "<matplotlib.legend.Legend at 0x7f6c128ef550>"
            ]
          },
          "metadata": {},
          "execution_count": 22
        },
        {
          "output_type": "display_data",
          "data": {
            "text/plain": [
              "<Figure size 864x432 with 1 Axes>"
            ],
            "image/png": "[encoded data removed]"
          },
          "metadata": {
            "needs_background": "light"
          }
        }
      ]
    },
    {
      "cell_type": "code",
      "source": [
        "sns.distplot(df[df['size_category']==0]['temp'])\n",
        "sns.distplot(df[df['size_category']==1]['temp'])                 #orange for small fire, blue for large fire\n",
        "plt.title(\"temp for size category\", y=1.01, fontsize=17)\n",
        "legend_drawn_flag = True\n",
        "plt.legend([\"large\", \"small\"], loc=0, frameon=legend_drawn_flag)"
      ],
      "metadata": {
        "colab": {
          "base_uri": "https://localhost:8080/",
          "height": 428
        },
        "id": "b681hf1PuOlb",
        "outputId": "0e98bf12-71e2-4469-e059-f290b02f42aa"
      },
      "execution_count": null,
      "outputs": [
        {
          "output_type": "execute_result",
          "data": {
            "text/plain": [
              "<matplotlib.legend.Legend at 0x7f6c0f0f8b10>"
            ]
          },
          "metadata": {},
          "execution_count": 23
        },
        {
          "output_type": "display_data",
          "data": {
            "text/plain": [
              "<Figure size 864x432 with 1 Axes>"
            ],
            "image/png": "[encoded data removed]"
          },
          "metadata": {
            "needs_background": "light"
          }
        }
      ]
    },
    {
      "cell_type": "markdown",
      "source": [
        "- Fairly Normal distribution.\n",
        "- Large forest fire has slighly higher temp than small forest fires."
      ],
      "metadata": {
        "id": "LbsyWh1OvY9Z"
      }
    },
    {
      "cell_type": "code",
      "source": [
        "sns.distplot(df[df['size_category']==0]['wind'])\n",
        "sns.distplot(df[df['size_category']==1]['wind'])                 #orange for small fire, blue for large fire\n",
        "plt.title(\"Wind for size category\", y=1.01, fontsize=17)\n",
        "legend_drawn_flag = True\n",
        "plt.legend([\"large\", \"small\"], loc=0, frameon=legend_drawn_flag)"
      ],
      "metadata": {
        "colab": {
          "base_uri": "https://localhost:8080/",
          "height": 428
        },
        "id": "xYNZJRKTxJUq",
        "outputId": "464a276e-77d8-4304-ea0f-3a07ad8c8d5c"
      },
      "execution_count": null,
      "outputs": [
        {
          "output_type": "execute_result",
          "data": {
            "text/plain": [
              "<matplotlib.legend.Legend at 0x7f6c0f839590>"
            ]
          },
          "metadata": {},
          "execution_count": 24
        },
        {
          "output_type": "display_data",
          "data": {
            "text/plain": [
              "<Figure size 864x432 with 1 Axes>"
            ],
            "image/png": "[encoded data removed]"
          },
          "metadata": {
            "needs_background": "light"
          }
        }
      ]
    },
    {
      "cell_type": "code",
      "source": [
        "sns.distplot(df[df['size_category']==0]['area'])\n",
        "sns.distplot(df[df['size_category']==1]['area'])                 #orange for small fire, blue for large fire\n",
        "plt.title(\"Area for size category\", y=1.01, fontsize=17)\n",
        "legend_drawn_flag = True\n",
        "plt.legend([\"large\", \"small\"], loc=0, frameon=legend_drawn_flag)"
      ],
      "metadata": {
        "colab": {
          "base_uri": "https://localhost:8080/",
          "height": 428
        },
        "id": "AwnOSYYX54ye",
        "outputId": "eed2607d-ee1c-41f3-854d-ad20d3edd4d0"
      },
      "execution_count": null,
      "outputs": [
        {
          "output_type": "execute_result",
          "data": {
            "text/plain": [
              "<matplotlib.legend.Legend at 0x7f6c0f0d9f10>"
            ]
          },
          "metadata": {},
          "execution_count": 25
        },
        {
          "output_type": "display_data",
          "data": {
            "text/plain": [
              "<Figure size 864x432 with 1 Axes>"
            ],
            "image/png": "[encoded data removed]"
          },
          "metadata": {
            "needs_background": "light"
          }
        }
      ]
    },
    {
      "cell_type": "markdown",
      "source": [
        "- Large the forest area, larger the fire. So we can see, area large area forest are coming under large forest fire category."
      ],
      "metadata": {
        "id": "FBx1TzRg6S8G"
      }
    },
    {
      "cell_type": "code",
      "source": [
        "#check for outliers\n",
        "fig, ax=plt.subplots(2,4, figsize=(19,6), sharex= False, sharey = False)\n",
        "sns.boxplot(df.FFMC, ax=ax[0,0])\n",
        "sns.boxplot(df.DMC, ax=ax[0,1])\n",
        "sns.boxplot(df.DC, ax=ax[0,2])\n",
        "sns.boxplot(df.temp, ax=ax[0,3])\n",
        "sns.boxplot(df.wind, ax=ax[1,0])\n",
        "sns.boxplot(df.ISI, ax=ax[1,1])\n",
        "sns.boxplot(df.RH, ax=ax[1,2])\n",
        "plt.suptitle(\"Boxplot for Continuous Variables\", fontsize= 17, y = 1.06)\n",
        "plt.tight_layout(pad=2.0)"
      ],
      "metadata": {
        "colab": {
          "base_uri": "https://localhost:8080/",
          "height": 436
        },
        "id": "RS_0J11Jxqop",
        "outputId": "f2050b91-d983-4714-8592-02052aabd4ed"
      },
      "execution_count": null,
      "outputs": [
        {
          "output_type": "display_data",
          "data": {
            "text/plain": [
              "<Figure size 1368x432 with 8 Axes>"
            ],
            "image/png": "[encoded data removed]"
          },
          "metadata": {
            "needs_background": "light"
          }
        }
      ]
    },
    {
      "cell_type": "code",
      "source": [
        "#to get correlation of target variable with numerical columns\n",
        "df1 = df.drop(['month','day','dayfri', 'daymon', 'daysat', 'daysun', 'daythu',\n",
        "       'daytue', 'daywed', 'monthapr', 'monthaug', 'monthdec', 'monthfeb',\n",
        "       'monthjan', 'monthjul', 'monthjun', 'monthmar', 'monthmay', 'monthnov',\n",
        "       'monthoct', 'monthsep'], axis=1)\n",
        "df1.head()"
      ],
      "metadata": {
        "colab": {
          "base_uri": "https://localhost:8080/",
          "height": 206
        },
        "id": "vA3MgK9W46ID",
        "outputId": "a17453b2-d053-4450-9a80-1f463c77ebec"
      },
      "execution_count": null,
      "outputs": [
        {
          "output_type": "execute_result",
          "data": {
            "text/plain": [
              "   FFMC   DMC     DC  ISI  temp  RH  wind  rain  area  size_category\n",
              "0  86.2  26.2   94.3  5.1   8.2  51   6.7   0.0   0.0              1\n",
              "1  90.6  35.4  669.1  6.7  18.0  33   0.9   0.0   0.0              1\n",
              "2  90.6  43.7  686.9  6.7  14.6  33   1.3   0.0   0.0              1\n",
              "3  91.7  33.3   77.5  9.0   8.3  97   4.0   0.2   0.0              1\n",
              "4  89.3  51.3  102.2  9.6  11.4  99   1.8   0.0   0.0              1"
            ],
            "text/html": [
              "\n",
              "  <div id=\"df-2182c310-de8e-4146-bee0-7fa03e839e0c\">\n",
              "    <div class=\"colab-df-container\">\n",
              "      <div>\n",
              "<style scoped>\n",
              "    .dataframe tbody tr th:only-of-type {\n",
              "        vertical-align: middle;\n",
              "    }\n",
              "\n",
              "    .dataframe tbody tr th {\n",
              "        vertical-align: top;\n",
              "    }\n",
              "\n",
              "    .dataframe thead th {\n",
              "        text-align: right;\n",
              "    }\n",
              "</style>\n",
              "<table border=\"1\" class=\"dataframe\">\n",
              "  <thead>\n",
              "    <tr style=\"text-align: right;\">\n",
              "      <th></th>\n",
              "      <th>FFMC</th>\n",
              "      <th>DMC</th>\n",
              "      <th>DC</th>\n",
              "      <th>ISI</th>\n",
              "      <th>temp</th>\n",
              "      <th>RH</th>\n",
              "      <th>wind</th>\n",
              "      <th>rain</th>\n",
              "      <th>area</th>\n",
              "      <th>size_category</th>\n",
              "    </tr>\n",
              "  </thead>\n",
              "  <tbody>\n",
              "    <tr>\n",
              "      <th>0</th>\n",
              "      <td>86.2</td>\n",
              "      <td>26.2</td>\n",
              "      <td>94.3</td>\n",
              "      <td>5.1</td>\n",
              "      <td>8.2</td>\n",
              "      <td>51</td>\n",
              "      <td>6.7</td>\n",
              "      <td>0.0</td>\n",
              "      <td>0.0</td>\n",
              "      <td>1</td>\n",
              "    </tr>\n",
              "    <tr>\n",
              "      <th>1</th>\n",
              "      <td>90.6</td>\n",
              "      <td>35.4</td>\n",
              "      <td>669.1</td>\n",
              "      <td>6.7</td>\n",
              "      <td>18.0</td>\n",
              "      <td>33</td>\n",
              "      <td>0.9</td>\n",
              "      <td>0.0</td>\n",
              "      <td>0.0</td>\n",
              "      <td>1</td>\n",
              "    </tr>\n",
              "    <tr>\n",
              "      <th>2</th>\n",
              "      <td>90.6</td>\n",
              "      <td>43.7</td>\n",
              "      <td>686.9</td>\n",
              "      <td>6.7</td>\n",
              "      <td>14.6</td>\n",
              "      <td>33</td>\n",
              "      <td>1.3</td>\n",
              "      <td>0.0</td>\n",
              "      <td>0.0</td>\n",
              "      <td>1</td>\n",
              "    </tr>\n",
              "    <tr>\n",
              "      <th>3</th>\n",
              "      <td>91.7</td>\n",
              "      <td>33.3</td>\n",
              "      <td>77.5</td>\n",
              "      <td>9.0</td>\n",
              "      <td>8.3</td>\n",
              "      <td>97</td>\n",
              "      <td>4.0</td>\n",
              "      <td>0.2</td>\n",
              "      <td>0.0</td>\n",
              "      <td>1</td>\n",
              "    </tr>\n",
              "    <tr>\n",
              "      <th>4</th>\n",
              "      <td>89.3</td>\n",
              "      <td>51.3</td>\n",
              "      <td>102.2</td>\n",
              "      <td>9.6</td>\n",
              "      <td>11.4</td>\n",
              "      <td>99</td>\n",
              "      <td>1.8</td>\n",
              "      <td>0.0</td>\n",
              "      <td>0.0</td>\n",
              "      <td>1</td>\n",
              "    </tr>\n",
              "  </tbody>\n",
              "</table>\n",
              "</div>\n",
              "      <button class=\"colab-df-convert\" onclick=\"convertToInteractive('df-2182c310-de8e-4146-bee0-7fa03e839e0c')\"\n",
              "              title=\"Convert this dataframe to an interactive table.\"\n",
              "              style=\"display:none;\">\n",
              "        \n",
              "  <svg xmlns=\"http://www.w3.org/2000/svg\" height=\"24px\"viewBox=\"0 0 24 24\"\n",
              "       width=\"24px\">\n",
              "    <path d=\"M0 0h24v24H0V0z\" fill=\"none\"/>\n",
              "    <path d=\"M18.56 5.44l.94 2.06.94-2.06 2.06-.94-2.06-.94-.94-2.06-.94 2.06-2.06.94zm-11 1L8.5 8.5l.94-2.06 2.06-.94-2.06-.94L8.5 2.5l-.94 2.06-2.06.94zm10 10l.94 2.06.94-2.06 2.06-.94-2.06-.94-.94-2.06-.94 2.06-2.06.94z\"/><path d=\"M17.41 7.96l-1.37-1.37c-.4-.4-.92-.59-1.43-.59-.52 0-1.04.2-1.43.59L10.3 9.45l-7.72 7.72c-.78.78-.78 2.05 0 2.83L4 21.41c.39.39.9.59 1.41.59.51 0 1.02-.2 1.41-.59l7.78-7.78 2.81-2.81c.8-.78.8-2.07 0-2.86zM5.41 20L4 18.59l7.72-7.72 1.47 1.35L5.41 20z\"/>\n",
              "  </svg>\n",
              "      </button>\n",
              "      \n",
              "  <style>\n",
              "    .colab-df-container {\n",
              "      display:flex;\n",
              "      flex-wrap:wrap;\n",
              "      gap: 12px;\n",
              "    }\n",
              "\n",
              "    .colab-df-convert {\n",
              "      background-color: #E8F0FE;\n",
              "      border: none;\n",
              "      border-radius: 50%;\n",
              "      cursor: pointer;\n",
              "      display: none;\n",
              "      fill: #1967D2;\n",
              "      height: 32px;\n",
              "      padding: 0 0 0 0;\n",
              "      width: 32px;\n",
              "    }\n",
              "\n",
              "    .colab-df-convert:hover {\n",
              "      background-color: #E2EBFA;\n",
              "      box-shadow: 0px 1px 2px rgba(60, 64, 67, 0.3), 0px 1px 3px 1px rgba(60, 64, 67, 0.15);\n",
              "      fill: #174EA6;\n",
              "    }\n",
              "\n",
              "    [theme=dark] .colab-df-convert {\n",
              "      background-color: #3B4455;\n",
              "      fill: #D2E3FC;\n",
              "    }\n",
              "\n",
              "    [theme=dark] .colab-df-convert:hover {\n",
              "      background-color: #434B5C;\n",
              "      box-shadow: 0px 1px 3px 1px rgba(0, 0, 0, 0.15);\n",
              "      filter: drop-shadow(0px 1px 2px rgba(0, 0, 0, 0.3));\n",
              "      fill: #FFFFFF;\n",
              "    }\n",
              "  </style>\n",
              "\n",
              "      <script>\n",
              "        const buttonEl =\n",
              "          document.querySelector('#df-2182c310-de8e-4146-bee0-7fa03e839e0c button.colab-df-convert');\n",
              "        buttonEl.style.display =\n",
              "          google.colab.kernel.accessAllowed ? 'block' : 'none';\n",
              "\n",
              "        async function convertToInteractive(key) {\n",
              "          const element = document.querySelector('#df-2182c310-de8e-4146-bee0-7fa03e839e0c');\n",
              "          const dataTable =\n",
              "            await google.colab.kernel.invokeFunction('convertToInteractive',\n",
              "                                                     [key], {});\n",
              "          if (!dataTable) return;\n",
              "\n",
              "          const docLinkHtml = 'Like what you see? Visit the ' +\n",
              "            '<a target=\"_blank\" href=https://colab.research.google.com/notebooks/data_table.ipynb>data table notebook</a>'\n",
              "            + ' to learn more about interactive tables.';\n",
              "          element.innerHTML = '';\n",
              "          dataTable['output_type'] = 'display_data';\n",
              "          await google.colab.output.renderOutput(dataTable, element);\n",
              "          const docLink = document.createElement('div');\n",
              "          docLink.innerHTML = docLinkHtml;\n",
              "          element.appendChild(docLink);\n",
              "        }\n",
              "      </script>\n",
              "    </div>\n",
              "  </div>\n",
              "  "
            ]
          },
          "metadata": {},
          "execution_count": 31
        }
      ]
    },
    {
      "cell_type": "code",
      "source": [
        "corr = pd.DataFrame(data = df1.corr().iloc[:,-1], index=df1.columns)\n",
        "corr"
      ],
      "metadata": {
        "colab": {
          "base_uri": "https://localhost:8080/",
          "height": 363
        },
        "id": "QLL7HAKU392V",
        "outputId": "36330935-270d-4fc6-fb91-353bc4498dde"
      },
      "execution_count": null,
      "outputs": [
        {
          "output_type": "execute_result",
          "data": {
            "text/plain": [
              "               size_category\n",
              "FFMC               -0.022063\n",
              "DMC                -0.034715\n",
              "DC                 -0.019428\n",
              "ISI                 0.008726\n",
              "temp               -0.006021\n",
              "RH                  0.045243\n",
              "wind               -0.059113\n",
              "rain               -0.050001\n",
              "area               -0.311322\n",
              "size_category       1.000000"
            ],
            "text/html": [
              "\n",
              "  <div id=\"df-81a79c0c-1769-4bf3-9177-9b1a02d33b2e\">\n",
              "    <div class=\"colab-df-container\">\n",
              "      <div>\n",
              "<style scoped>\n",
              "    .dataframe tbody tr th:only-of-type {\n",
              "        vertical-align: middle;\n",
              "    }\n",
              "\n",
              "    .dataframe tbody tr th {\n",
              "        vertical-align: top;\n",
              "    }\n",
              "\n",
              "    .dataframe thead th {\n",
              "        text-align: right;\n",
              "    }\n",
              "</style>\n",
              "<table border=\"1\" class=\"dataframe\">\n",
              "  <thead>\n",
              "    <tr style=\"text-align: right;\">\n",
              "      <th></th>\n",
              "      <th>size_category</th>\n",
              "    </tr>\n",
              "  </thead>\n",
              "  <tbody>\n",
              "    <tr>\n",
              "      <th>FFMC</th>\n",
              "      <td>-0.022063</td>\n",
              "    </tr>\n",
              "    <tr>\n",
              "      <th>DMC</th>\n",
              "      <td>-0.034715</td>\n",
              "    </tr>\n",
              "    <tr>\n",
              "      <th>DC</th>\n",
              "      <td>-0.019428</td>\n",
              "    </tr>\n",
              "    <tr>\n",
              "      <th>ISI</th>\n",
              "      <td>0.008726</td>\n",
              "    </tr>\n",
              "    <tr>\n",
              "      <th>temp</th>\n",
              "      <td>-0.006021</td>\n",
              "    </tr>\n",
              "    <tr>\n",
              "      <th>RH</th>\n",
              "      <td>0.045243</td>\n",
              "    </tr>\n",
              "    <tr>\n",
              "      <th>wind</th>\n",
              "      <td>-0.059113</td>\n",
              "    </tr>\n",
              "    <tr>\n",
              "      <th>rain</th>\n",
              "      <td>-0.050001</td>\n",
              "    </tr>\n",
              "    <tr>\n",
              "      <th>area</th>\n",
              "      <td>-0.311322</td>\n",
              "    </tr>\n",
              "    <tr>\n",
              "      <th>size_category</th>\n",
              "      <td>1.000000</td>\n",
              "    </tr>\n",
              "  </tbody>\n",
              "</table>\n",
              "</div>\n",
              "      <button class=\"colab-df-convert\" onclick=\"convertToInteractive('df-81a79c0c-1769-4bf3-9177-9b1a02d33b2e')\"\n",
              "              title=\"Convert this dataframe to an interactive table.\"\n",
              "              style=\"display:none;\">\n",
              "        \n",
              "  <svg xmlns=\"http://www.w3.org/2000/svg\" height=\"24px\"viewBox=\"0 0 24 24\"\n",
              "       width=\"24px\">\n",
              "    <path d=\"M0 0h24v24H0V0z\" fill=\"none\"/>\n",
              "    <path d=\"M18.56 5.44l.94 2.06.94-2.06 2.06-.94-2.06-.94-.94-2.06-.94 2.06-2.06.94zm-11 1L8.5 8.5l.94-2.06 2.06-.94-2.06-.94L8.5 2.5l-.94 2.06-2.06.94zm10 10l.94 2.06.94-2.06 2.06-.94-2.06-.94-.94-2.06-.94 2.06-2.06.94z\"/><path d=\"M17.41 7.96l-1.37-1.37c-.4-.4-.92-.59-1.43-.59-.52 0-1.04.2-1.43.59L10.3 9.45l-7.72 7.72c-.78.78-.78 2.05 0 2.83L4 21.41c.39.39.9.59 1.41.59.51 0 1.02-.2 1.41-.59l7.78-7.78 2.81-2.81c.8-.78.8-2.07 0-2.86zM5.41 20L4 18.59l7.72-7.72 1.47 1.35L5.41 20z\"/>\n",
              "  </svg>\n",
              "      </button>\n",
              "      \n",
              "  <style>\n",
              "    .colab-df-container {\n",
              "      display:flex;\n",
              "      flex-wrap:wrap;\n",
              "      gap: 12px;\n",
              "    }\n",
              "\n",
              "    .colab-df-convert {\n",
              "      background-color: #E8F0FE;\n",
              "      border: none;\n",
              "      border-radius: 50%;\n",
              "      cursor: pointer;\n",
              "      display: none;\n",
              "      fill: #1967D2;\n",
              "      height: 32px;\n",
              "      padding: 0 0 0 0;\n",
              "      width: 32px;\n",
              "    }\n",
              "\n",
              "    .colab-df-convert:hover {\n",
              "      background-color: #E2EBFA;\n",
              "      box-shadow: 0px 1px 2px rgba(60, 64, 67, 0.3), 0px 1px 3px 1px rgba(60, 64, 67, 0.15);\n",
              "      fill: #174EA6;\n",
              "    }\n",
              "\n",
              "    [theme=dark] .colab-df-convert {\n",
              "      background-color: #3B4455;\n",
              "      fill: #D2E3FC;\n",
              "    }\n",
              "\n",
              "    [theme=dark] .colab-df-convert:hover {\n",
              "      background-color: #434B5C;\n",
              "      box-shadow: 0px 1px 3px 1px rgba(0, 0, 0, 0.15);\n",
              "      filter: drop-shadow(0px 1px 2px rgba(0, 0, 0, 0.3));\n",
              "      fill: #FFFFFF;\n",
              "    }\n",
              "  </style>\n",
              "\n",
              "      <script>\n",
              "        const buttonEl =\n",
              "          document.querySelector('#df-81a79c0c-1769-4bf3-9177-9b1a02d33b2e button.colab-df-convert');\n",
              "        buttonEl.style.display =\n",
              "          google.colab.kernel.accessAllowed ? 'block' : 'none';\n",
              "\n",
              "        async function convertToInteractive(key) {\n",
              "          const element = document.querySelector('#df-81a79c0c-1769-4bf3-9177-9b1a02d33b2e');\n",
              "          const dataTable =\n",
              "            await google.colab.kernel.invokeFunction('convertToInteractive',\n",
              "                                                     [key], {});\n",
              "          if (!dataTable) return;\n",
              "\n",
              "          const docLinkHtml = 'Like what you see? Visit the ' +\n",
              "            '<a target=\"_blank\" href=https://colab.research.google.com/notebooks/data_table.ipynb>data table notebook</a>'\n",
              "            + ' to learn more about interactive tables.';\n",
              "          element.innerHTML = '';\n",
              "          dataTable['output_type'] = 'display_data';\n",
              "          await google.colab.output.renderOutput(dataTable, element);\n",
              "          const docLink = document.createElement('div');\n",
              "          docLink.innerHTML = docLinkHtml;\n",
              "          element.appendChild(docLink);\n",
              "        }\n",
              "      </script>\n",
              "    </div>\n",
              "  </div>\n",
              "  "
            ]
          },
          "metadata": {},
          "execution_count": 32
        }
      ]
    },
    {
      "cell_type": "code",
      "source": [
        "fig , ax=plt.subplots(figsize=(10,8))\n",
        "sns.barplot(x = corr.index, y = corr.iloc[:,0])\n",
        "plt.title('Correlation plot of Target variable with other continuous features', fontsize=17, y =1.01)"
      ],
      "metadata": {
        "colab": {
          "base_uri": "https://localhost:8080/",
          "height": 525
        },
        "id": "8yNUfEMi4sjM",
        "outputId": "f80224fb-e095-4e8e-8dea-3a24639d5466"
      },
      "execution_count": null,
      "outputs": [
        {
          "output_type": "execute_result",
          "data": {
            "text/plain": [
              "Text(0.5, 1.01, 'Correlation plot of Target variable with other continuous features')"
            ]
          },
          "metadata": {},
          "execution_count": 33
        },
        {
          "output_type": "display_data",
          "data": {
            "text/plain": [
              "<Figure size 720x576 with 1 Axes>"
            ],
            "image/png": "[encoded data removed]"
          },
          "metadata": {
            "needs_background": "light"
          }
        }
      ]
    },
    {
      "cell_type": "markdown",
      "source": [
        "- Highest corr of size_category has with area of forest.\n",
        "- Then ranks wind."
      ],
      "metadata": {
        "id": "6jZCXPOA5ifh"
      }
    },
    {
      "cell_type": "code",
      "source": [
        "fig= plt.figure(figsize=(18, 8))\n",
        "sns.heatmap(df1.corr(), annot=True);\n",
        "plt.xticks(rotation=45)\n",
        "plt.title(\"Correlation Map of Numerical variables\", fontsize=19)"
      ],
      "metadata": {
        "colab": {
          "base_uri": "https://localhost:8080/",
          "height": 567
        },
        "id": "ruo-ez-ULd4d",
        "outputId": "429bb405-d7fb-42a5-8175-3c7d477ac3b8"
      },
      "execution_count": null,
      "outputs": [
        {
          "output_type": "execute_result",
          "data": {
            "text/plain": [
              "Text(0.5, 1.0, 'Correlation Map of Numerical variables')"
            ]
          },
          "metadata": {},
          "execution_count": 34
        },
        {
          "output_type": "display_data",
          "data": {
            "text/plain": [
              "<Figure size 1296x576 with 2 Axes>"
            ],
            "image/png": "[encoded data removed]"
          },
          "metadata": {
            "needs_background": "light"
          }
        }
      ]
    },
    {
      "cell_type": "markdown",
      "source": [
        "**Data Preprocessing**"
      ],
      "metadata": {
        "id": "p_tJ1j_a-9kE"
      }
    },
    {
      "cell_type": "code",
      "source": [
        "#drop the unnecessary columns\n",
        "df.drop(['month', 'day', 'monthjan', 'daymon'], axis=1, inplace=True)"
      ],
      "metadata": {
        "id": "PXS-89Uv9I2m"
      },
      "execution_count": null,
      "outputs": []
    },
    {
      "cell_type": "code",
      "source": [
        "pd.set_option(\"display.max_columns\", 27)\n",
        "df.head()"
      ],
      "metadata": {
        "colab": {
          "base_uri": "https://localhost:8080/",
          "height": 270
        },
        "id": "_NtId3Bj_Tfp",
        "outputId": "e010d085-3c0a-40fe-c543-5bf7dd3a531e"
      },
      "execution_count": null,
      "outputs": [
        {
          "output_type": "execute_result",
          "data": {
            "text/plain": [
              "   FFMC   DMC     DC  ISI  temp  RH  wind  rain  area  dayfri  daysat  daysun  \\\n",
              "0  86.2  26.2   94.3  5.1   8.2  51   6.7   0.0   0.0       1       0       0   \n",
              "1  90.6  35.4  669.1  6.7  18.0  33   0.9   0.0   0.0       0       0       0   \n",
              "2  90.6  43.7  686.9  6.7  14.6  33   1.3   0.0   0.0       0       1       0   \n",
              "3  91.7  33.3   77.5  9.0   8.3  97   4.0   0.2   0.0       1       0       0   \n",
              "4  89.3  51.3  102.2  9.6  11.4  99   1.8   0.0   0.0       0       0       1   \n",
              "\n",
              "   daythu  daytue  daywed  monthapr  monthaug  monthdec  monthfeb  monthjul  \\\n",
              "0       0       0       0         0         0         0         0         0   \n",
              "1       0       1       0         0         0         0         0         0   \n",
              "2       0       0       0         0         0         0         0         0   \n",
              "3       0       0       0         0         0         0         0         0   \n",
              "4       0       0       0         0         0         0         0         0   \n",
              "\n",
              "   monthjun  monthmar  monthmay  monthnov  monthoct  monthsep  size_category  \n",
              "0         0         1         0         0         0         0              1  \n",
              "1         0         0         0         0         1         0              1  \n",
              "2         0         0         0         0         1         0              1  \n",
              "3         0         1         0         0         0         0              1  \n",
              "4         0         1         0         0         0         0              1  "
            ],
            "text/html": [
              "\n",
              "  <div id=\"df-8ea53ad0-b510-4032-8389-1da39e756357\">\n",
              "    <div class=\"colab-df-container\">\n",
              "      <div>\n",
              "<style scoped>\n",
              "    .dataframe tbody tr th:only-of-type {\n",
              "        vertical-align: middle;\n",
              "    }\n",
              "\n",
              "    .dataframe tbody tr th {\n",
              "        vertical-align: top;\n",
              "    }\n",
              "\n",
              "    .dataframe thead th {\n",
              "        text-align: right;\n",
              "    }\n",
              "</style>\n",
              "<table border=\"1\" class=\"dataframe\">\n",
              "  <thead>\n",
              "    <tr style=\"text-align: right;\">\n",
              "      <th></th>\n",
              "      <th>FFMC</th>\n",
              "      <th>DMC</th>\n",
              "      <th>DC</th>\n",
              "      <th>ISI</th>\n",
              "      <th>temp</th>\n",
              "      <th>RH</th>\n",
              "      <th>wind</th>\n",
              "      <th>rain</th>\n",
              "      <th>area</th>\n",
              "      <th>dayfri</th>\n",
              "      <th>daysat</th>\n",
              "      <th>daysun</th>\n",
              "      <th>daythu</th>\n",
              "      <th>daytue</th>\n",
              "      <th>daywed</th>\n",
              "      <th>monthapr</th>\n",
              "      <th>monthaug</th>\n",
              "      <th>monthdec</th>\n",
              "      <th>monthfeb</th>\n",
              "      <th>monthjul</th>\n",
              "      <th>monthjun</th>\n",
              "      <th>monthmar</th>\n",
              "      <th>monthmay</th>\n",
              "      <th>monthnov</th>\n",
              "      <th>monthoct</th>\n",
              "      <th>monthsep</th>\n",
              "      <th>size_category</th>\n",
              "    </tr>\n",
              "  </thead>\n",
              "  <tbody>\n",
              "    <tr>\n",
              "      <th>0</th>\n",
              "      <td>86.2</td>\n",
              "      <td>26.2</td>\n",
              "      <td>94.3</td>\n",
              "      <td>5.1</td>\n",
              "      <td>8.2</td>\n",
              "      <td>51</td>\n",
              "      <td>6.7</td>\n",
              "      <td>0.0</td>\n",
              "      <td>0.0</td>\n",
              "      <td>1</td>\n",
              "      <td>0</td>\n",
              "      <td>0</td>\n",
              "      <td>0</td>\n",
              "      <td>0</td>\n",
              "      <td>0</td>\n",
              "      <td>0</td>\n",
              "      <td>0</td>\n",
              "      <td>0</td>\n",
              "      <td>0</td>\n",
              "      <td>0</td>\n",
              "      <td>0</td>\n",
              "      <td>1</td>\n",
              "      <td>0</td>\n",
              "      <td>0</td>\n",
              "      <td>0</td>\n",
              "      <td>0</td>\n",
              "      <td>1</td>\n",
              "    </tr>\n",
              "    <tr>\n",
              "      <th>1</th>\n",
              "      <td>90.6</td>\n",
              "      <td>35.4</td>\n",
              "      <td>669.1</td>\n",
              "      <td>6.7</td>\n",
              "      <td>18.0</td>\n",
              "      <td>33</td>\n",
              "      <td>0.9</td>\n",
              "      <td>0.0</td>\n",
              "      <td>0.0</td>\n",
              "      <td>0</td>\n",
              "      <td>0</td>\n",
              "      <td>0</td>\n",
              "      <td>0</td>\n",
              "      <td>1</td>\n",
              "      <td>0</td>\n",
              "      <td>0</td>\n",
              "      <td>0</td>\n",
              "      <td>0</td>\n",
              "      <td>0</td>\n",
              "      <td>0</td>\n",
              "      <td>0</td>\n",
              "      <td>0</td>\n",
              "      <td>0</td>\n",
              "      <td>0</td>\n",
              "      <td>1</td>\n",
              "      <td>0</td>\n",
              "      <td>1</td>\n",
              "    </tr>\n",
              "    <tr>\n",
              "      <th>2</th>\n",
              "      <td>90.6</td>\n",
              "      <td>43.7</td>\n",
              "      <td>686.9</td>\n",
              "      <td>6.7</td>\n",
              "      <td>14.6</td>\n",
              "      <td>33</td>\n",
              "      <td>1.3</td>\n",
              "      <td>0.0</td>\n",
              "      <td>0.0</td>\n",
              "      <td>0</td>\n",
              "      <td>1</td>\n",
              "      <td>0</td>\n",
              "      <td>0</td>\n",
              "      <td>0</td>\n",
              "      <td>0</td>\n",
              "      <td>0</td>\n",
              "      <td>0</td>\n",
              "      <td>0</td>\n",
              "      <td>0</td>\n",
              "      <td>0</td>\n",
              "      <td>0</td>\n",
              "      <td>0</td>\n",
              "      <td>0</td>\n",
              "      <td>0</td>\n",
              "      <td>1</td>\n",
              "      <td>0</td>\n",
              "      <td>1</td>\n",
              "    </tr>\n",
              "    <tr>\n",
              "      <th>3</th>\n",
              "      <td>91.7</td>\n",
              "      <td>33.3</td>\n",
              "      <td>77.5</td>\n",
              "      <td>9.0</td>\n",
              "      <td>8.3</td>\n",
              "      <td>97</td>\n",
              "      <td>4.0</td>\n",
              "      <td>0.2</td>\n",
              "      <td>0.0</td>\n",
              "      <td>1</td>\n",
              "      <td>0</td>\n",
              "      <td>0</td>\n",
              "      <td>0</td>\n",
              "      <td>0</td>\n",
              "      <td>0</td>\n",
              "      <td>0</td>\n",
              "      <td>0</td>\n",
              "      <td>0</td>\n",
              "      <td>0</td>\n",
              "      <td>0</td>\n",
              "      <td>0</td>\n",
              "      <td>1</td>\n",
              "      <td>0</td>\n",
              "      <td>0</td>\n",
              "      <td>0</td>\n",
              "      <td>0</td>\n",
              "      <td>1</td>\n",
              "    </tr>\n",
              "    <tr>\n",
              "      <th>4</th>\n",
              "      <td>89.3</td>\n",
              "      <td>51.3</td>\n",
              "      <td>102.2</td>\n",
              "      <td>9.6</td>\n",
              "      <td>11.4</td>\n",
              "      <td>99</td>\n",
              "      <td>1.8</td>\n",
              "      <td>0.0</td>\n",
              "      <td>0.0</td>\n",
              "      <td>0</td>\n",
              "      <td>0</td>\n",
              "      <td>1</td>\n",
              "      <td>0</td>\n",
              "      <td>0</td>\n",
              "      <td>0</td>\n",
              "      <td>0</td>\n",
              "      <td>0</td>\n",
              "      <td>0</td>\n",
              "      <td>0</td>\n",
              "      <td>0</td>\n",
              "      <td>0</td>\n",
              "      <td>1</td>\n",
              "      <td>0</td>\n",
              "      <td>0</td>\n",
              "      <td>0</td>\n",
              "      <td>0</td>\n",
              "      <td>1</td>\n",
              "    </tr>\n",
              "  </tbody>\n",
              "</table>\n",
              "</div>\n",
              "      <button class=\"colab-df-convert\" onclick=\"convertToInteractive('df-8ea53ad0-b510-4032-8389-1da39e756357')\"\n",
              "              title=\"Convert this dataframe to an interactive table.\"\n",
              "              style=\"display:none;\">\n",
              "        \n",
              "  <svg xmlns=\"http://www.w3.org/2000/svg\" height=\"24px\"viewBox=\"0 0 24 24\"\n",
              "       width=\"24px\">\n",
              "    <path d=\"M0 0h24v24H0V0z\" fill=\"none\"/>\n",
              "    <path d=\"M18.56 5.44l.94 2.06.94-2.06 2.06-.94-2.06-.94-.94-2.06-.94 2.06-2.06.94zm-11 1L8.5 8.5l.94-2.06 2.06-.94-2.06-.94L8.5 2.5l-.94 2.06-2.06.94zm10 10l.94 2.06.94-2.06 2.06-.94-2.06-.94-.94-2.06-.94 2.06-2.06.94z\"/><path d=\"M17.41 7.96l-1.37-1.37c-.4-.4-.92-.59-1.43-.59-.52 0-1.04.2-1.43.59L10.3 9.45l-7.72 7.72c-.78.78-.78 2.05 0 2.83L4 21.41c.39.39.9.59 1.41.59.51 0 1.02-.2 1.41-.59l7.78-7.78 2.81-2.81c.8-.78.8-2.07 0-2.86zM5.41 20L4 18.59l7.72-7.72 1.47 1.35L5.41 20z\"/>\n",
              "  </svg>\n",
              "      </button>\n",
              "      \n",
              "  <style>\n",
              "    .colab-df-container {\n",
              "      display:flex;\n",
              "      flex-wrap:wrap;\n",
              "      gap: 12px;\n",
              "    }\n",
              "\n",
              "    .colab-df-convert {\n",
              "      background-color: #E8F0FE;\n",
              "      border: none;\n",
              "      border-radius: 50%;\n",
              "      cursor: pointer;\n",
              "      display: none;\n",
              "      fill: #1967D2;\n",
              "      height: 32px;\n",
              "      padding: 0 0 0 0;\n",
              "      width: 32px;\n",
              "    }\n",
              "\n",
              "    .colab-df-convert:hover {\n",
              "      background-color: #E2EBFA;\n",
              "      box-shadow: 0px 1px 2px rgba(60, 64, 67, 0.3), 0px 1px 3px 1px rgba(60, 64, 67, 0.15);\n",
              "      fill: #174EA6;\n",
              "    }\n",
              "\n",
              "    [theme=dark] .colab-df-convert {\n",
              "      background-color: #3B4455;\n",
              "      fill: #D2E3FC;\n",
              "    }\n",
              "\n",
              "    [theme=dark] .colab-df-convert:hover {\n",
              "      background-color: #434B5C;\n",
              "      box-shadow: 0px 1px 3px 1px rgba(0, 0, 0, 0.15);\n",
              "      filter: drop-shadow(0px 1px 2px rgba(0, 0, 0, 0.3));\n",
              "      fill: #FFFFFF;\n",
              "    }\n",
              "  </style>\n",
              "\n",
              "      <script>\n",
              "        const buttonEl =\n",
              "          document.querySelector('#df-8ea53ad0-b510-4032-8389-1da39e756357 button.colab-df-convert');\n",
              "        buttonEl.style.display =\n",
              "          google.colab.kernel.accessAllowed ? 'block' : 'none';\n",
              "\n",
              "        async function convertToInteractive(key) {\n",
              "          const element = document.querySelector('#df-8ea53ad0-b510-4032-8389-1da39e756357');\n",
              "          const dataTable =\n",
              "            await google.colab.kernel.invokeFunction('convertToInteractive',\n",
              "                                                     [key], {});\n",
              "          if (!dataTable) return;\n",
              "\n",
              "          const docLinkHtml = 'Like what you see? Visit the ' +\n",
              "            '<a target=\"_blank\" href=https://colab.research.google.com/notebooks/data_table.ipynb>data table notebook</a>'\n",
              "            + ' to learn more about interactive tables.';\n",
              "          element.innerHTML = '';\n",
              "          dataTable['output_type'] = 'display_data';\n",
              "          await google.colab.output.renderOutput(dataTable, element);\n",
              "          const docLink = document.createElement('div');\n",
              "          docLink.innerHTML = docLinkHtml;\n",
              "          element.appendChild(docLink);\n",
              "        }\n",
              "      </script>\n",
              "    </div>\n",
              "  </div>\n",
              "  "
            ]
          },
          "metadata": {},
          "execution_count": 37
        }
      ]
    },
    {
      "cell_type": "markdown",
      "source": [
        "- outliers dataset gives the outliers in our data, and we need to remove these to improve our model."
      ],
      "metadata": {
        "id": "0wUu-kN7AjGA"
      }
    },
    {
      "cell_type": "markdown",
      "source": [
        "**Splitting data into target variable and independent variables**"
      ],
      "metadata": {
        "id": "DBlOMHH1BNvT"
      }
    },
    {
      "cell_type": "code",
      "source": [
        "x = df.drop('size_category', axis=1)\n",
        "y = df['size_category']"
      ],
      "metadata": {
        "id": "osX78Y3KA6VD"
      },
      "execution_count": null,
      "outputs": []
    },
    {
      "cell_type": "markdown",
      "source": [
        "**Converting independent features into normalised and standardized data**"
      ],
      "metadata": {
        "id": "TewpAkPlCQjz"
      }
    },
    {
      "cell_type": "code",
      "source": [
        "#Standardize & Normalize the data\n",
        "norm = MinMaxScaler()\n",
        "std = StandardScaler()\n",
        "\n",
        "x_norm = pd.DataFrame(norm.fit_transform(x), columns=x.columns)            #data between -3 to +3\n",
        "x_std = pd.DataFrame(std.fit_transform(x), columns=x.columns)            #data between -1 to +1"
      ],
      "metadata": {
        "id": "AMI4nLz6CQE3"
      },
      "execution_count": null,
      "outputs": []
    },
    {
      "cell_type": "code",
      "source": [
        "x_std.head()"
      ],
      "metadata": {
        "colab": {
          "base_uri": "https://localhost:8080/",
          "height": 270
        },
        "id": "wDFLdWrNC0Oh",
        "outputId": "5584da69-82d6-4b77-d565-bac6752cd8a8"
      },
      "execution_count": null,
      "outputs": [
        {
          "output_type": "execute_result",
          "data": {
            "text/plain": [
              "       FFMC       DMC        DC       ISI      temp        RH      wind  \\\n",
              "0 -1.152145 -1.349327 -1.872882 -0.883826 -1.903660  0.439490  1.531449   \n",
              "1 -0.080103 -1.204539  0.475150 -0.529429 -0.180137 -0.692844 -1.758092   \n",
              "2 -0.080103 -1.073914  0.547862 -0.529429 -0.778094 -0.692844 -1.531227   \n",
              "3  0.187908 -1.237588 -1.941509 -0.019983 -1.886073  3.333233  0.000111   \n",
              "4 -0.396842 -0.954306 -1.840611  0.112916 -1.340877  3.459048 -1.247646   \n",
              "\n",
              "       rain      area    dayfri    daysat    daysun    daythu    daytue  \\\n",
              "0 -0.073700 -0.200487  2.238697 -0.440369 -0.471686 -0.368179 -0.368179   \n",
              "1 -0.073700 -0.200487 -0.446688 -0.440369 -0.471686 -0.368179  2.716072   \n",
              "2 -0.073700 -0.200487 -0.446688  2.270821 -0.471686 -0.368179 -0.368179   \n",
              "3  0.598809 -0.200487  2.238697 -0.440369 -0.471686 -0.368179 -0.368179   \n",
              "4 -0.073700 -0.200487 -0.446688 -0.440369  2.120053 -0.368179 -0.368179   \n",
              "\n",
              "     daywed  monthapr  monthaug  monthdec  monthfeb  monthjul  monthjun  \\\n",
              "0 -0.343747 -0.126113 -0.750127 -0.126113 -0.191079 -0.258468 -0.179787   \n",
              "1 -0.343747 -0.126113 -0.750127 -0.126113 -0.191079 -0.258468 -0.179787   \n",
              "2 -0.343747 -0.126113 -0.750127 -0.126113 -0.191079 -0.258468 -0.179787   \n",
              "3 -0.343747 -0.126113 -0.750127 -0.126113 -0.191079 -0.258468 -0.179787   \n",
              "4 -0.343747 -0.126113 -0.750127 -0.126113 -0.191079 -0.258468 -0.179787   \n",
              "\n",
              "   monthmar  monthmay  monthnov  monthoct  monthsep  \n",
              "0  2.909117 -0.062684 -0.044281 -0.173902 -0.712302  \n",
              "1 -0.343747 -0.062684 -0.044281  5.750362 -0.712302  \n",
              "2 -0.343747 -0.062684 -0.044281  5.750362 -0.712302  \n",
              "3  2.909117 -0.062684 -0.044281 -0.173902 -0.712302  \n",
              "4  2.909117 -0.062684 -0.044281 -0.173902 -0.712302  "
            ],
            "text/html": [
              "\n",
              "  <div id=\"df-9cf585b8-d1b7-4162-9ed9-cb4b77260074\">\n",
              "    <div class=\"colab-df-container\">\n",
              "      <div>\n",
              "<style scoped>\n",
              "    .dataframe tbody tr th:only-of-type {\n",
              "        vertical-align: middle;\n",
              "    }\n",
              "\n",
              "    .dataframe tbody tr th {\n",
              "        vertical-align: top;\n",
              "    }\n",
              "\n",
              "    .dataframe thead th {\n",
              "        text-align: right;\n",
              "    }\n",
              "</style>\n",
              "<table border=\"1\" class=\"dataframe\">\n",
              "  <thead>\n",
              "    <tr style=\"text-align: right;\">\n",
              "      <th></th>\n",
              "      <th>FFMC</th>\n",
              "      <th>DMC</th>\n",
              "      <th>DC</th>\n",
              "      <th>ISI</th>\n",
              "      <th>temp</th>\n",
              "      <th>RH</th>\n",
              "      <th>wind</th>\n",
              "      <th>rain</th>\n",
              "      <th>area</th>\n",
              "      <th>dayfri</th>\n",
              "      <th>daysat</th>\n",
              "      <th>daysun</th>\n",
              "      <th>daythu</th>\n",
              "      <th>daytue</th>\n",
              "      <th>daywed</th>\n",
              "      <th>monthapr</th>\n",
              "      <th>monthaug</th>\n",
              "      <th>monthdec</th>\n",
              "      <th>monthfeb</th>\n",
              "      <th>monthjul</th>\n",
              "      <th>monthjun</th>\n",
              "      <th>monthmar</th>\n",
              "      <th>monthmay</th>\n",
              "      <th>monthnov</th>\n",
              "      <th>monthoct</th>\n",
              "      <th>monthsep</th>\n",
              "    </tr>\n",
              "  </thead>\n",
              "  <tbody>\n",
              "    <tr>\n",
              "      <th>0</th>\n",
              "      <td>-1.152145</td>\n",
              "      <td>-1.349327</td>\n",
              "      <td>-1.872882</td>\n",
              "      <td>-0.883826</td>\n",
              "      <td>-1.903660</td>\n",
              "      <td>0.439490</td>\n",
              "      <td>1.531449</td>\n",
              "      <td>-0.073700</td>\n",
              "      <td>-0.200487</td>\n",
              "      <td>2.238697</td>\n",
              "      <td>-0.440369</td>\n",
              "      <td>-0.471686</td>\n",
              "      <td>-0.368179</td>\n",
              "      <td>-0.368179</td>\n",
              "      <td>-0.343747</td>\n",
              "      <td>-0.126113</td>\n",
              "      <td>-0.750127</td>\n",
              "      <td>-0.126113</td>\n",
              "      <td>-0.191079</td>\n",
              "      <td>-0.258468</td>\n",
              "      <td>-0.179787</td>\n",
              "      <td>2.909117</td>\n",
              "      <td>-0.062684</td>\n",
              "      <td>-0.044281</td>\n",
              "      <td>-0.173902</td>\n",
              "      <td>-0.712302</td>\n",
              "    </tr>\n",
              "    <tr>\n",
              "      <th>1</th>\n",
              "      <td>-0.080103</td>\n",
              "      <td>-1.204539</td>\n",
              "      <td>0.475150</td>\n",
              "      <td>-0.529429</td>\n",
              "      <td>-0.180137</td>\n",
              "      <td>-0.692844</td>\n",
              "      <td>-1.758092</td>\n",
              "      <td>-0.073700</td>\n",
              "      <td>-0.200487</td>\n",
              "      <td>-0.446688</td>\n",
              "      <td>-0.440369</td>\n",
              "      <td>-0.471686</td>\n",
              "      <td>-0.368179</td>\n",
              "      <td>2.716072</td>\n",
              "      <td>-0.343747</td>\n",
              "      <td>-0.126113</td>\n",
              "      <td>-0.750127</td>\n",
              "      <td>-0.126113</td>\n",
              "      <td>-0.191079</td>\n",
              "      <td>-0.258468</td>\n",
              "      <td>-0.179787</td>\n",
              "      <td>-0.343747</td>\n",
              "      <td>-0.062684</td>\n",
              "      <td>-0.044281</td>\n",
              "      <td>5.750362</td>\n",
              "      <td>-0.712302</td>\n",
              "    </tr>\n",
              "    <tr>\n",
              "      <th>2</th>\n",
              "      <td>-0.080103</td>\n",
              "      <td>-1.073914</td>\n",
              "      <td>0.547862</td>\n",
              "      <td>-0.529429</td>\n",
              "      <td>-0.778094</td>\n",
              "      <td>-0.692844</td>\n",
              "      <td>-1.531227</td>\n",
              "      <td>-0.073700</td>\n",
              "      <td>-0.200487</td>\n",
              "      <td>-0.446688</td>\n",
              "      <td>2.270821</td>\n",
              "      <td>-0.471686</td>\n",
              "      <td>-0.368179</td>\n",
              "      <td>-0.368179</td>\n",
              "      <td>-0.343747</td>\n",
              "      <td>-0.126113</td>\n",
              "      <td>-0.750127</td>\n",
              "      <td>-0.126113</td>\n",
              "      <td>-0.191079</td>\n",
              "      <td>-0.258468</td>\n",
              "      <td>-0.179787</td>\n",
              "      <td>-0.343747</td>\n",
              "      <td>-0.062684</td>\n",
              "      <td>-0.044281</td>\n",
              "      <td>5.750362</td>\n",
              "      <td>-0.712302</td>\n",
              "    </tr>\n",
              "    <tr>\n",
              "      <th>3</th>\n",
              "      <td>0.187908</td>\n",
              "      <td>-1.237588</td>\n",
              "      <td>-1.941509</td>\n",
              "      <td>-0.019983</td>\n",
              "      <td>-1.886073</td>\n",
              "      <td>3.333233</td>\n",
              "      <td>0.000111</td>\n",
              "      <td>0.598809</td>\n",
              "      <td>-0.200487</td>\n",
              "      <td>2.238697</td>\n",
              "      <td>-0.440369</td>\n",
              "      <td>-0.471686</td>\n",
              "      <td>-0.368179</td>\n",
              "      <td>-0.368179</td>\n",
              "      <td>-0.343747</td>\n",
              "      <td>-0.126113</td>\n",
              "      <td>-0.750127</td>\n",
              "      <td>-0.126113</td>\n",
              "      <td>-0.191079</td>\n",
              "      <td>-0.258468</td>\n",
              "      <td>-0.179787</td>\n",
              "      <td>2.909117</td>\n",
              "      <td>-0.062684</td>\n",
              "      <td>-0.044281</td>\n",
              "      <td>-0.173902</td>\n",
              "      <td>-0.712302</td>\n",
              "    </tr>\n",
              "    <tr>\n",
              "      <th>4</th>\n",
              "      <td>-0.396842</td>\n",
              "      <td>-0.954306</td>\n",
              "      <td>-1.840611</td>\n",
              "      <td>0.112916</td>\n",
              "      <td>-1.340877</td>\n",
              "      <td>3.459048</td>\n",
              "      <td>-1.247646</td>\n",
              "      <td>-0.073700</td>\n",
              "      <td>-0.200487</td>\n",
              "      <td>-0.446688</td>\n",
              "      <td>-0.440369</td>\n",
              "      <td>2.120053</td>\n",
              "      <td>-0.368179</td>\n",
              "      <td>-0.368179</td>\n",
              "      <td>-0.343747</td>\n",
              "      <td>-0.126113</td>\n",
              "      <td>-0.750127</td>\n",
              "      <td>-0.126113</td>\n",
              "      <td>-0.191079</td>\n",
              "      <td>-0.258468</td>\n",
              "      <td>-0.179787</td>\n",
              "      <td>2.909117</td>\n",
              "      <td>-0.062684</td>\n",
              "      <td>-0.044281</td>\n",
              "      <td>-0.173902</td>\n",
              "      <td>-0.712302</td>\n",
              "    </tr>\n",
              "  </tbody>\n",
              "</table>\n",
              "</div>\n",
              "      <button class=\"colab-df-convert\" onclick=\"convertToInteractive('df-9cf585b8-d1b7-4162-9ed9-cb4b77260074')\"\n",
              "              title=\"Convert this dataframe to an interactive table.\"\n",
              "              style=\"display:none;\">\n",
              "        \n",
              "  <svg xmlns=\"http://www.w3.org/2000/svg\" height=\"24px\"viewBox=\"0 0 24 24\"\n",
              "       width=\"24px\">\n",
              "    <path d=\"M0 0h24v24H0V0z\" fill=\"none\"/>\n",
              "    <path d=\"M18.56 5.44l.94 2.06.94-2.06 2.06-.94-2.06-.94-.94-2.06-.94 2.06-2.06.94zm-11 1L8.5 8.5l.94-2.06 2.06-.94-2.06-.94L8.5 2.5l-.94 2.06-2.06.94zm10 10l.94 2.06.94-2.06 2.06-.94-2.06-.94-.94-2.06-.94 2.06-2.06.94z\"/><path d=\"M17.41 7.96l-1.37-1.37c-.4-.4-.92-.59-1.43-.59-.52 0-1.04.2-1.43.59L10.3 9.45l-7.72 7.72c-.78.78-.78 2.05 0 2.83L4 21.41c.39.39.9.59 1.41.59.51 0 1.02-.2 1.41-.59l7.78-7.78 2.81-2.81c.8-.78.8-2.07 0-2.86zM5.41 20L4 18.59l7.72-7.72 1.47 1.35L5.41 20z\"/>\n",
              "  </svg>\n",
              "      </button>\n",
              "      \n",
              "  <style>\n",
              "    .colab-df-container {\n",
              "      display:flex;\n",
              "      flex-wrap:wrap;\n",
              "      gap: 12px;\n",
              "    }\n",
              "\n",
              "    .colab-df-convert {\n",
              "      background-color: #E8F0FE;\n",
              "      border: none;\n",
              "      border-radius: 50%;\n",
              "      cursor: pointer;\n",
              "      display: none;\n",
              "      fill: #1967D2;\n",
              "      height: 32px;\n",
              "      padding: 0 0 0 0;\n",
              "      width: 32px;\n",
              "    }\n",
              "\n",
              "    .colab-df-convert:hover {\n",
              "      background-color: #E2EBFA;\n",
              "      box-shadow: 0px 1px 2px rgba(60, 64, 67, 0.3), 0px 1px 3px 1px rgba(60, 64, 67, 0.15);\n",
              "      fill: #174EA6;\n",
              "    }\n",
              "\n",
              "    [theme=dark] .colab-df-convert {\n",
              "      background-color: #3B4455;\n",
              "      fill: #D2E3FC;\n",
              "    }\n",
              "\n",
              "    [theme=dark] .colab-df-convert:hover {\n",
              "      background-color: #434B5C;\n",
              "      box-shadow: 0px 1px 3px 1px rgba(0, 0, 0, 0.15);\n",
              "      filter: drop-shadow(0px 1px 2px rgba(0, 0, 0, 0.3));\n",
              "      fill: #FFFFFF;\n",
              "    }\n",
              "  </style>\n",
              "\n",
              "      <script>\n",
              "        const buttonEl =\n",
              "          document.querySelector('#df-9cf585b8-d1b7-4162-9ed9-cb4b77260074 button.colab-df-convert');\n",
              "        buttonEl.style.display =\n",
              "          google.colab.kernel.accessAllowed ? 'block' : 'none';\n",
              "\n",
              "        async function convertToInteractive(key) {\n",
              "          const element = document.querySelector('#df-9cf585b8-d1b7-4162-9ed9-cb4b77260074');\n",
              "          const dataTable =\n",
              "            await google.colab.kernel.invokeFunction('convertToInteractive',\n",
              "                                                     [key], {});\n",
              "          if (!dataTable) return;\n",
              "\n",
              "          const docLinkHtml = 'Like what you see? Visit the ' +\n",
              "            '<a target=\"_blank\" href=https://colab.research.google.com/notebooks/data_table.ipynb>data table notebook</a>'\n",
              "            + ' to learn more about interactive tables.';\n",
              "          element.innerHTML = '';\n",
              "          dataTable['output_type'] = 'display_data';\n",
              "          await google.colab.output.renderOutput(dataTable, element);\n",
              "          const docLink = document.createElement('div');\n",
              "          docLink.innerHTML = docLinkHtml;\n",
              "          element.appendChild(docLink);\n",
              "        }\n",
              "      </script>\n",
              "    </div>\n",
              "  </div>\n",
              "  "
            ]
          },
          "metadata": {},
          "execution_count": 76
        }
      ]
    },
    {
      "cell_type": "markdown",
      "source": [
        "**Creating train and test data for model validation**"
      ],
      "metadata": {
        "id": "GGcueT8QB6Ct"
      }
    },
    {
      "cell_type": "code",
      "source": [
        "x_train, x_test, y_train, y_test = train_test_split(x_std, y, test_size=0.25)"
      ],
      "metadata": {
        "id": "HgL9cB-RBoD5"
      },
      "execution_count": null,
      "outputs": []
    },
    {
      "cell_type": "code",
      "source": [
        "x_train.shape, x_test.shape, y_train.shape, y_test.shape"
      ],
      "metadata": {
        "colab": {
          "base_uri": "https://localhost:8080/"
        },
        "id": "Tu5jTbouBxYm",
        "outputId": "5714fa91-7278-40b0-f54e-cd2a06628ccd"
      },
      "execution_count": null,
      "outputs": [
        {
          "output_type": "execute_result",
          "data": {
            "text/plain": [
              "((387, 26), (130, 26), (387,), (130,))"
            ]
          },
          "metadata": {},
          "execution_count": 45
        }
      ]
    },
    {
      "cell_type": "markdown",
      "source": [
        "**Build a model**"
      ],
      "metadata": {
        "id": "lis59Ey8CENC"
      }
    },
    {
      "cell_type": "code",
      "source": [
        "# Importing the necessary packages\n",
        "import keras\n",
        "from sklearn.model_selection import GridSearchCV, KFold\n",
        "from keras.models import Sequential\n",
        "from keras.layers import Dense\n",
        "from keras.wrappers.scikit_learn import KerasClassifier\n",
        "from tensorflow.keras.optimizers import Adam"
      ],
      "metadata": {
        "id": "vQFvU3ywYWsF"
      },
      "execution_count": null,
      "outputs": []
    },
    {
      "cell_type": "code",
      "source": [
        "from keras.layers import Dropout\n",
        "\n",
        "# create model\n",
        "def create_model():\n",
        "    model = Sequential()\n",
        "    model.add(Dense(12, input_dim=26, kernel_initializer='uniform', activation='relu'))\n",
        "    model.add(Dense(8, kernel_initializer='uniform', activation='relu'))\n",
        "    model.add(Dense(1, kernel_initializer='uniform', activation='sigmoid'))\n",
        "\n",
        "    adam=Adam(lr=0.01)\n",
        "    model.compile(loss='binary_crossentropy', optimizer=adam, metrics=['accuracy'])\n",
        "    return model"
      ],
      "metadata": {
        "id": "SuKgqQ1SYkwr"
      },
      "execution_count": null,
      "outputs": []
    },
    {
      "cell_type": "code",
      "source": [
        "# Create the model\n",
        "#get best value for batch size and epochs by hyperparameter tuning\n",
        "model = KerasClassifier(build_fn = create_model,verbose = 0)\n",
        "# Define the grid search parameters\n",
        "batch_size = [10,20,40]\n",
        "epochs = [10,50,100]\n",
        "# Make a dictionary of the grid search parameters\n",
        "param_grid = dict(batch_size = batch_size,epochs = epochs)\n",
        "# Build and fit the GridSearchCV\n",
        "grid = GridSearchCV(estimator = model,param_grid = param_grid,cv = KFold(),verbose = 10)\n",
        "grid_result = grid.fit(x_train,y_train)"
      ],
      "metadata": {
        "colab": {
          "base_uri": "https://localhost:8080/"
        },
        "id": "p4HJIJkdYkZh",
        "outputId": "668d39bb-d091-4b03-ee47-cf6ec9038db9"
      },
      "execution_count": null,
      "outputs": [
        {
          "output_type": "stream",
          "name": "stdout",
          "text": [
            "Fitting 5 folds for each of 9 candidates, totalling 45 fits\n",
            "[CV 1/5; 1/9] START batch_size=10, epochs=10....................................\n",
            "[CV 1/5; 1/9] END .....batch_size=10, epochs=10;, score=0.872 total time=   2.4s\n",
            "[CV 2/5; 1/9] START batch_size=10, epochs=10....................................\n",
            "[CV 2/5; 1/9] END .....batch_size=10, epochs=10;, score=0.833 total time=   1.3s\n",
            "[CV 3/5; 1/9] START batch_size=10, epochs=10....................................\n",
            "[CV 3/5; 1/9] END .....batch_size=10, epochs=10;, score=0.909 total time=   1.2s\n",
            "[CV 4/5; 1/9] START batch_size=10, epochs=10....................................\n",
            "[CV 4/5; 1/9] END .....batch_size=10, epochs=10;, score=0.818 total time=   1.2s\n",
            "[CV 5/5; 1/9] START batch_size=10, epochs=10....................................\n",
            "[CV 5/5; 1/9] END .....batch_size=10, epochs=10;, score=0.909 total time=   1.2s\n",
            "[CV 1/5; 2/9] START batch_size=10, epochs=50....................................\n",
            "[CV 1/5; 2/9] END .....batch_size=10, epochs=50;, score=0.859 total time=   3.2s\n",
            "[CV 2/5; 2/9] START batch_size=10, epochs=50....................................\n",
            "[CV 2/5; 2/9] END .....batch_size=10, epochs=50;, score=0.910 total time=   3.3s\n",
            "[CV 3/5; 2/9] START batch_size=10, epochs=50....................................\n",
            "[CV 3/5; 2/9] END .....batch_size=10, epochs=50;, score=0.922 total time=   3.3s\n",
            "[CV 4/5; 2/9] START batch_size=10, epochs=50....................................\n",
            "[CV 4/5; 2/9] END .....batch_size=10, epochs=50;, score=0.935 total time=   3.4s\n",
            "[CV 5/5; 2/9] START batch_size=10, epochs=50....................................\n",
            "[CV 5/5; 2/9] END .....batch_size=10, epochs=50;, score=0.779 total time=   3.3s\n",
            "[CV 1/5; 3/9] START batch_size=10, epochs=100...................................\n",
            "[CV 1/5; 3/9] END ....batch_size=10, epochs=100;, score=0.872 total time=  11.1s\n",
            "[CV 2/5; 3/9] START batch_size=10, epochs=100...................................\n",
            "[CV 2/5; 3/9] END ....batch_size=10, epochs=100;, score=0.872 total time=   5.4s\n",
            "[CV 3/5; 3/9] START batch_size=10, epochs=100...................................\n",
            "[CV 3/5; 3/9] END ....batch_size=10, epochs=100;, score=0.935 total time=  11.2s\n",
            "[CV 4/5; 3/9] START batch_size=10, epochs=100...................................\n",
            "[CV 4/5; 3/9] END ....batch_size=10, epochs=100;, score=0.935 total time=   9.0s\n",
            "[CV 5/5; 3/9] START batch_size=10, epochs=100...................................\n",
            "[CV 5/5; 3/9] END ....batch_size=10, epochs=100;, score=0.961 total time=  11.2s\n",
            "[CV 1/5; 4/9] START batch_size=20, epochs=10....................................\n",
            "[CV 1/5; 4/9] END .....batch_size=20, epochs=10;, score=0.821 total time=   1.1s\n",
            "[CV 2/5; 4/9] START batch_size=20, epochs=10....................................\n",
            "[CV 2/5; 4/9] END .....batch_size=20, epochs=10;, score=0.744 total time=   1.8s\n",
            "[CV 3/5; 4/9] START batch_size=20, epochs=10....................................\n",
            "[CV 3/5; 4/9] END .....batch_size=20, epochs=10;, score=0.870 total time=   2.2s\n",
            "[CV 4/5; 4/9] START batch_size=20, epochs=10....................................\n",
            "[CV 4/5; 4/9] END .....batch_size=20, epochs=10;, score=0.818 total time=   1.3s\n",
            "[CV 5/5; 4/9] START batch_size=20, epochs=10....................................\n",
            "[CV 5/5; 4/9] END .....batch_size=20, epochs=10;, score=0.909 total time=   2.7s\n",
            "[CV 1/5; 5/9] START batch_size=20, epochs=50....................................\n",
            "[CV 1/5; 5/9] END .....batch_size=20, epochs=50;, score=0.859 total time=   4.0s\n",
            "[CV 2/5; 5/9] START batch_size=20, epochs=50....................................\n",
            "[CV 2/5; 5/9] END .....batch_size=20, epochs=50;, score=0.846 total time=   3.9s\n",
            "[CV 3/5; 5/9] START batch_size=20, epochs=50....................................\n",
            "[CV 3/5; 5/9] END .....batch_size=20, epochs=50;, score=0.935 total time=   2.8s\n",
            "[CV 4/5; 5/9] START batch_size=20, epochs=50....................................\n",
            "[CV 4/5; 5/9] END .....batch_size=20, epochs=50;, score=0.922 total time=   4.0s\n",
            "[CV 5/5; 5/9] START batch_size=20, epochs=50....................................\n",
            "[CV 5/5; 5/9] END .....batch_size=20, epochs=50;, score=0.935 total time=   3.7s\n",
            "[CV 1/5; 6/9] START batch_size=20, epochs=100...................................\n",
            "[CV 1/5; 6/9] END ....batch_size=20, epochs=100;, score=0.859 total time=   3.8s\n",
            "[CV 2/5; 6/9] START batch_size=20, epochs=100...................................\n",
            "[CV 2/5; 6/9] END ....batch_size=20, epochs=100;, score=0.885 total time=   6.0s\n",
            "[CV 3/5; 6/9] START batch_size=20, epochs=100...................................\n",
            "[CV 3/5; 6/9] END ....batch_size=20, epochs=100;, score=0.909 total time=   6.0s\n",
            "[CV 4/5; 6/9] START batch_size=20, epochs=100...................................\n",
            "[CV 4/5; 6/9] END ....batch_size=20, epochs=100;, score=0.922 total time=   6.0s\n",
            "[CV 5/5; 6/9] START batch_size=20, epochs=100...................................\n",
            "[CV 5/5; 6/9] END ....batch_size=20, epochs=100;, score=0.935 total time=   3.4s\n",
            "[CV 1/5; 7/9] START batch_size=40, epochs=10....................................\n",
            "[CV 1/5; 7/9] END .....batch_size=40, epochs=10;, score=0.667 total time=   1.0s\n",
            "[CV 2/5; 7/9] START batch_size=40, epochs=10....................................\n",
            "[CV 2/5; 7/9] END .....batch_size=40, epochs=10;, score=0.692 total time=   1.0s\n",
            "[CV 3/5; 7/9] START batch_size=40, epochs=10....................................\n",
            "WARNING:tensorflow:5 out of the last 13 calls to <function Model.make_test_function.<locals>.test_function at 0x7f6ba4895c20> triggered tf.function retracing. Tracing is expensive and the excessive number of tracings could be due to (1) creating @tf.function repeatedly in a loop, (2) passing tensors with different shapes, (3) passing Python objects instead of tensors. For (1), please define your @tf.function outside of the loop. For (2), @tf.function has experimental_relax_shapes=True option that relaxes argument shapes that can avoid unnecessary retracing. For (3), please refer to https://www.tensorflow.org/guide/function#controlling_retracing and https://www.tensorflow.org/api_docs/python/tf/function for  more details.\n",
            "[CV 3/5; 7/9] END .....batch_size=40, epochs=10;, score=0.805 total time=   1.0s\n",
            "[CV 4/5; 7/9] START batch_size=40, epochs=10....................................\n",
            "WARNING:tensorflow:5 out of the last 11 calls to <function Model.make_test_function.<locals>.test_function at 0x7f6ba63b9a70> triggered tf.function retracing. Tracing is expensive and the excessive number of tracings could be due to (1) creating @tf.function repeatedly in a loop, (2) passing tensors with different shapes, (3) passing Python objects instead of tensors. For (1), please define your @tf.function outside of the loop. For (2), @tf.function has experimental_relax_shapes=True option that relaxes argument shapes that can avoid unnecessary retracing. For (3), please refer to https://www.tensorflow.org/guide/function#controlling_retracing and https://www.tensorflow.org/api_docs/python/tf/function for  more details.\n",
            "[CV 4/5; 7/9] END .....batch_size=40, epochs=10;, score=0.714 total time=   1.0s\n",
            "[CV 5/5; 7/9] START batch_size=40, epochs=10....................................\n",
            "[CV 5/5; 7/9] END .....batch_size=40, epochs=10;, score=0.844 total time=   1.0s\n",
            "[CV 1/5; 8/9] START batch_size=40, epochs=50....................................\n",
            "[CV 1/5; 8/9] END .....batch_size=40, epochs=50;, score=0.885 total time=   2.3s\n",
            "[CV 2/5; 8/9] START batch_size=40, epochs=50....................................\n",
            "[CV 2/5; 8/9] END .....batch_size=40, epochs=50;, score=0.885 total time=   1.7s\n",
            "[CV 3/5; 8/9] START batch_size=40, epochs=50....................................\n",
            "[CV 3/5; 8/9] END .....batch_size=40, epochs=50;, score=0.935 total time=   2.1s\n",
            "[CV 4/5; 8/9] START batch_size=40, epochs=50....................................\n",
            "[CV 4/5; 8/9] END .....batch_size=40, epochs=50;, score=0.922 total time=   1.6s\n",
            "[CV 5/5; 8/9] START batch_size=40, epochs=50....................................\n",
            "[CV 5/5; 8/9] END .....batch_size=40, epochs=50;, score=0.909 total time=   1.5s\n",
            "[CV 1/5; 9/9] START batch_size=40, epochs=100...................................\n",
            "[CV 1/5; 9/9] END ....batch_size=40, epochs=100;, score=0.897 total time=   3.4s\n",
            "[CV 2/5; 9/9] START batch_size=40, epochs=100...................................\n",
            "[CV 2/5; 9/9] END ....batch_size=40, epochs=100;, score=0.859 total time=   3.2s\n",
            "[CV 3/5; 9/9] START batch_size=40, epochs=100...................................\n",
            "[CV 3/5; 9/9] END ....batch_size=40, epochs=100;, score=0.909 total time=   2.2s\n",
            "[CV 4/5; 9/9] START batch_size=40, epochs=100...................................\n",
            "[CV 4/5; 9/9] END ....batch_size=40, epochs=100;, score=0.935 total time=   3.4s\n",
            "[CV 5/5; 9/9] START batch_size=40, epochs=100...................................\n",
            "[CV 5/5; 9/9] END ....batch_size=40, epochs=100;, score=0.922 total time=   3.4s\n"
          ]
        }
      ]
    },
    {
      "cell_type": "code",
      "source": [
        "# Summarize the results\n",
        "print('Best : {}, using {}'.format(grid_result.best_score_,grid_result.best_params_))\n",
        "means = grid_result.cv_results_['mean_test_score']\n",
        "stds = grid_result.cv_results_['std_test_score']\n",
        "params = grid_result.cv_results_['params']\n",
        "for mean, stdev, param in zip(means, stds, params):\n",
        "  print('{},{} with: {}'.format(mean, stdev, param))"
      ],
      "metadata": {
        "colab": {
          "base_uri": "https://localhost:8080/"
        },
        "id": "l8G7ncj2YkR_",
        "outputId": "d2182a73-161f-4b91-ca27-6e696038cae2"
      },
      "execution_count": null,
      "outputs": [
        {
          "output_type": "stream",
          "name": "stdout",
          "text": [
            "Best : 0.9149517059326172, using {'batch_size': 10, 'epochs': 100}\n",
            "0.8682983756065369,0.037615201655010054 with: {'batch_size': 10, 'epochs': 10}\n",
            "0.8811188578605652,0.057114651511646485 with: {'batch_size': 10, 'epochs': 50}\n",
            "0.9149517059326172,0.03649147640007573 with: {'batch_size': 10, 'epochs': 100}\n",
            "0.8323010444641114,0.055741753442027385 with: {'batch_size': 20, 'epochs': 10}\n",
            "0.8994671821594238,0.038801088379633523 with: {'batch_size': 20, 'epochs': 50}\n",
            "0.9019646883010864,0.027203377174482523 with: {'batch_size': 20, 'epochs': 100}\n",
            "0.7445221543312073,0.06827899462174197 with: {'batch_size': 40, 'epochs': 10}\n",
            "0.9070928931236267,0.020106989349511044 with: {'batch_size': 40, 'epochs': 50}\n",
            "0.904528796672821,0.026025972209562858 with: {'batch_size': 40, 'epochs': 100}\n"
          ]
        }
      ]
    },
    {
      "cell_type": "code",
      "source": [
        "#get best value for learning rate and dropuout by hyperparameter tuning\n",
        "from keras.layers import Dropout\n",
        "\n",
        "# Defining the model\n",
        "\n",
        "def create_model(learning_rate,dropout_rate):\n",
        "    model = Sequential()\n",
        "    model.add(Dense(12,input_dim = 26,kernel_initializer = 'normal',activation = 'relu'))\n",
        "    model.add(Dropout(dropout_rate))\n",
        "    model.add(Dense(8,input_dim = 8,kernel_initializer = 'normal',activation = 'relu'))\n",
        "    model.add(Dropout(dropout_rate))\n",
        "    model.add(Dense(1,activation = 'sigmoid'))\n",
        "\n",
        "    adam = Adam(lr = learning_rate)\n",
        "    model.compile(loss = 'binary_crossentropy',optimizer = adam,metrics = ['accuracy'])\n",
        "    return model\n",
        "\n",
        "# Create the model\n",
        "\n",
        "model = KerasClassifier(build_fn = create_model,verbose = 0,batch_size = 10,epochs = 100)\n",
        "\n",
        "# Define the grid search parameters\n",
        "\n",
        "learning_rate = [0.001,0.01,0.1]\n",
        "dropout_rate = [0.0,0.1,0.2]\n",
        "\n",
        "# Make a dictionary of the grid search parameters\n",
        "\n",
        "param_grids = dict(learning_rate = learning_rate,dropout_rate = dropout_rate)\n",
        "\n",
        "# Build and fit the GridSearchCV\n",
        "\n",
        "grid = GridSearchCV(estimator = model,param_grid = param_grids,cv = KFold(),verbose = 10)\n",
        "grid_result = grid.fit(x_train,y_train)"
      ],
      "metadata": {
        "colab": {
          "base_uri": "https://localhost:8080/"
        },
        "id": "UKpGh_TnYkL1",
        "outputId": "22bcb142-636b-4c2c-a7bd-358f82fd708d"
      },
      "execution_count": null,
      "outputs": [
        {
          "output_type": "stream",
          "name": "stdout",
          "text": [
            "Fitting 5 folds for each of 9 candidates, totalling 45 fits\n",
            "[CV 1/5; 1/9] START dropout_rate=0.0, learning_rate=0.001.......................\n",
            "[CV 1/5; 1/9] END dropout_rate=0.0, learning_rate=0.001;, score=0.885 total time=   6.0s\n",
            "[CV 2/5; 1/9] START dropout_rate=0.0, learning_rate=0.001.......................\n",
            "[CV 2/5; 1/9] END dropout_rate=0.0, learning_rate=0.001;, score=0.897 total time=   5.3s\n",
            "[CV 3/5; 1/9] START dropout_rate=0.0, learning_rate=0.001.......................\n",
            "[CV 3/5; 1/9] END dropout_rate=0.0, learning_rate=0.001;, score=0.935 total time=   5.9s\n",
            "[CV 4/5; 1/9] START dropout_rate=0.0, learning_rate=0.001.......................\n",
            "[CV 4/5; 1/9] END dropout_rate=0.0, learning_rate=0.001;, score=0.922 total time=   5.2s\n",
            "[CV 5/5; 1/9] START dropout_rate=0.0, learning_rate=0.001.......................\n",
            "[CV 5/5; 1/9] END dropout_rate=0.0, learning_rate=0.001;, score=0.935 total time=   5.1s\n",
            "[CV 1/5; 2/9] START dropout_rate=0.0, learning_rate=0.01........................\n",
            "[CV 1/5; 2/9] END dropout_rate=0.0, learning_rate=0.01;, score=0.897 total time=   6.0s\n",
            "[CV 2/5; 2/9] START dropout_rate=0.0, learning_rate=0.01........................\n",
            "[CV 2/5; 2/9] END dropout_rate=0.0, learning_rate=0.01;, score=0.897 total time=   5.2s\n",
            "[CV 3/5; 2/9] START dropout_rate=0.0, learning_rate=0.01........................\n",
            "[CV 3/5; 2/9] END dropout_rate=0.0, learning_rate=0.01;, score=0.961 total time=   5.1s\n",
            "[CV 4/5; 2/9] START dropout_rate=0.0, learning_rate=0.01........................\n",
            "[CV 4/5; 2/9] END dropout_rate=0.0, learning_rate=0.01;, score=0.922 total time=   5.9s\n",
            "[CV 5/5; 2/9] START dropout_rate=0.0, learning_rate=0.01........................\n",
            "[CV 5/5; 2/9] END dropout_rate=0.0, learning_rate=0.01;, score=0.948 total time=   5.0s\n",
            "[CV 1/5; 3/9] START dropout_rate=0.0, learning_rate=0.1.........................\n",
            "[CV 1/5; 3/9] END dropout_rate=0.0, learning_rate=0.1;, score=0.859 total time=   5.3s\n",
            "[CV 2/5; 3/9] START dropout_rate=0.0, learning_rate=0.1.........................\n",
            "[CV 2/5; 3/9] END dropout_rate=0.0, learning_rate=0.1;, score=0.897 total time=   5.9s\n",
            "[CV 3/5; 3/9] START dropout_rate=0.0, learning_rate=0.1.........................\n",
            "[CV 3/5; 3/9] END dropout_rate=0.0, learning_rate=0.1;, score=0.857 total time=   5.1s\n",
            "[CV 4/5; 3/9] START dropout_rate=0.0, learning_rate=0.1.........................\n",
            "[CV 4/5; 3/9] END dropout_rate=0.0, learning_rate=0.1;, score=0.714 total time=   5.0s\n",
            "[CV 5/5; 3/9] START dropout_rate=0.0, learning_rate=0.1.........................\n",
            "[CV 5/5; 3/9] END dropout_rate=0.0, learning_rate=0.1;, score=0.831 total time=  11.0s\n",
            "[CV 1/5; 4/9] START dropout_rate=0.1, learning_rate=0.001.......................\n",
            "[CV 1/5; 4/9] END dropout_rate=0.1, learning_rate=0.001;, score=0.910 total time=   5.4s\n",
            "[CV 2/5; 4/9] START dropout_rate=0.1, learning_rate=0.001.......................\n",
            "[CV 2/5; 4/9] END dropout_rate=0.1, learning_rate=0.001;, score=0.923 total time=   5.4s\n",
            "[CV 3/5; 4/9] START dropout_rate=0.1, learning_rate=0.001.......................\n",
            "[CV 3/5; 4/9] END dropout_rate=0.1, learning_rate=0.001;, score=0.948 total time=   5.9s\n",
            "[CV 4/5; 4/9] START dropout_rate=0.1, learning_rate=0.001.......................\n",
            "[CV 4/5; 4/9] END dropout_rate=0.1, learning_rate=0.001;, score=0.922 total time=   5.2s\n",
            "[CV 5/5; 4/9] START dropout_rate=0.1, learning_rate=0.001.......................\n",
            "[CV 5/5; 4/9] END dropout_rate=0.1, learning_rate=0.001;, score=0.922 total time=   5.9s\n",
            "[CV 1/5; 5/9] START dropout_rate=0.1, learning_rate=0.01........................\n",
            "[CV 1/5; 5/9] END dropout_rate=0.1, learning_rate=0.01;, score=0.885 total time=   5.5s\n",
            "[CV 2/5; 5/9] START dropout_rate=0.1, learning_rate=0.01........................\n",
            "[CV 2/5; 5/9] END dropout_rate=0.1, learning_rate=0.01;, score=0.872 total time=   6.0s\n",
            "[CV 3/5; 5/9] START dropout_rate=0.1, learning_rate=0.01........................\n",
            "[CV 3/5; 5/9] END dropout_rate=0.1, learning_rate=0.01;, score=0.974 total time=   6.0s\n",
            "[CV 4/5; 5/9] START dropout_rate=0.1, learning_rate=0.01........................\n",
            "[CV 4/5; 5/9] END dropout_rate=0.1, learning_rate=0.01;, score=0.935 total time=   5.9s\n",
            "[CV 5/5; 5/9] START dropout_rate=0.1, learning_rate=0.01........................\n",
            "[CV 5/5; 5/9] END dropout_rate=0.1, learning_rate=0.01;, score=0.948 total time=   5.0s\n",
            "[CV 1/5; 6/9] START dropout_rate=0.1, learning_rate=0.1.........................\n",
            "[CV 1/5; 6/9] END dropout_rate=0.1, learning_rate=0.1;, score=0.667 total time=   7.1s\n",
            "[CV 2/5; 6/9] START dropout_rate=0.1, learning_rate=0.1.........................\n",
            "[CV 2/5; 6/9] END dropout_rate=0.1, learning_rate=0.1;, score=0.756 total time=   6.1s\n",
            "[CV 3/5; 6/9] START dropout_rate=0.1, learning_rate=0.1.........................\n",
            "[CV 3/5; 6/9] END dropout_rate=0.1, learning_rate=0.1;, score=0.844 total time=   5.4s\n",
            "[CV 4/5; 6/9] START dropout_rate=0.1, learning_rate=0.1.........................\n",
            "[CV 4/5; 6/9] END dropout_rate=0.1, learning_rate=0.1;, score=0.792 total time=   8.6s\n",
            "[CV 5/5; 6/9] START dropout_rate=0.1, learning_rate=0.1.........................\n",
            "[CV 5/5; 6/9] END dropout_rate=0.1, learning_rate=0.1;, score=0.779 total time=   7.1s\n",
            "[CV 1/5; 7/9] START dropout_rate=0.2, learning_rate=0.001.......................\n",
            "[CV 1/5; 7/9] END dropout_rate=0.2, learning_rate=0.001;, score=0.897 total time=   6.6s\n",
            "[CV 2/5; 7/9] START dropout_rate=0.2, learning_rate=0.001.......................\n",
            "[CV 2/5; 7/9] END dropout_rate=0.2, learning_rate=0.001;, score=0.936 total time=   6.5s\n",
            "[CV 3/5; 7/9] START dropout_rate=0.2, learning_rate=0.001.......................\n",
            "[CV 3/5; 7/9] END dropout_rate=0.2, learning_rate=0.001;, score=0.948 total time=   6.1s\n",
            "[CV 4/5; 7/9] START dropout_rate=0.2, learning_rate=0.001.......................\n",
            "[CV 4/5; 7/9] END dropout_rate=0.2, learning_rate=0.001;, score=0.935 total time=  11.6s\n",
            "[CV 5/5; 7/9] START dropout_rate=0.2, learning_rate=0.001.......................\n",
            "[CV 5/5; 7/9] END dropout_rate=0.2, learning_rate=0.001;, score=0.948 total time=  11.5s\n",
            "[CV 1/5; 8/9] START dropout_rate=0.2, learning_rate=0.01........................\n",
            "[CV 1/5; 8/9] END dropout_rate=0.2, learning_rate=0.01;, score=0.872 total time=   5.4s\n",
            "[CV 2/5; 8/9] START dropout_rate=0.2, learning_rate=0.01........................\n",
            "[CV 2/5; 8/9] END dropout_rate=0.2, learning_rate=0.01;, score=0.872 total time=   6.7s\n",
            "[CV 3/5; 8/9] START dropout_rate=0.2, learning_rate=0.01........................\n",
            "[CV 3/5; 8/9] END dropout_rate=0.2, learning_rate=0.01;, score=0.922 total time=  11.6s\n",
            "[CV 4/5; 8/9] START dropout_rate=0.2, learning_rate=0.01........................\n",
            "[CV 4/5; 8/9] END dropout_rate=0.2, learning_rate=0.01;, score=0.909 total time=  11.5s\n",
            "[CV 5/5; 8/9] START dropout_rate=0.2, learning_rate=0.01........................\n",
            "[CV 5/5; 8/9] END dropout_rate=0.2, learning_rate=0.01;, score=0.935 total time=   8.3s\n",
            "[CV 1/5; 9/9] START dropout_rate=0.2, learning_rate=0.1.........................\n",
            "[CV 1/5; 9/9] END dropout_rate=0.2, learning_rate=0.1;, score=0.667 total time=   9.0s\n",
            "[CV 2/5; 9/9] START dropout_rate=0.2, learning_rate=0.1.........................\n",
            "[CV 2/5; 9/9] END dropout_rate=0.2, learning_rate=0.1;, score=0.692 total time=   6.6s\n",
            "[CV 3/5; 9/9] START dropout_rate=0.2, learning_rate=0.1.........................\n",
            "[CV 3/5; 9/9] END dropout_rate=0.2, learning_rate=0.1;, score=0.805 total time=   5.9s\n",
            "[CV 4/5; 9/9] START dropout_rate=0.2, learning_rate=0.1.........................\n",
            "[CV 4/5; 9/9] END dropout_rate=0.2, learning_rate=0.1;, score=0.714 total time=   5.4s\n",
            "[CV 5/5; 9/9] START dropout_rate=0.2, learning_rate=0.1.........................\n",
            "[CV 5/5; 9/9] END dropout_rate=0.2, learning_rate=0.1;, score=0.779 total time=   5.4s\n"
          ]
        }
      ]
    },
    {
      "cell_type": "code",
      "source": [
        "# Summarize the results\n",
        "print('Best : {}, using {}'.format(grid_result.best_score_,grid_result.best_params_))\n",
        "means = grid_result.cv_results_['mean_test_score']\n",
        "stds = grid_result.cv_results_['std_test_score']\n",
        "params = grid_result.cv_results_['params']\n",
        "for mean, stdev, param in zip(means, stds, params):\n",
        "  print('{},{} with: {}'.format(mean, stdev, param))"
      ],
      "metadata": {
        "colab": {
          "base_uri": "https://localhost:8080/"
        },
        "id": "Lls_v8yhYkE-",
        "outputId": "8564eb41-b3c9-4f64-81bb-820ecf670549"
      },
      "execution_count": null,
      "outputs": [
        {
          "output_type": "stream",
          "name": "stdout",
          "text": [
            "Best : 0.9329004168510437, using {'dropout_rate': 0.2, 'learning_rate': 0.001}\n",
            "0.9148517966270446,0.020429938174522287 with: {'dropout_rate': 0.0, 'learning_rate': 0.001}\n",
            "0.9252081155776978,0.02591554795487987 with: {'dropout_rate': 0.0, 'learning_rate': 0.01}\n",
            "0.8318015336990356,0.06244802479662244 with: {'dropout_rate': 0.0, 'learning_rate': 0.1}\n",
            "0.9251082062721252,0.01240550426842318 with: {'dropout_rate': 0.1, 'learning_rate': 0.001}\n",
            "0.9227106094360351,0.03865678838455989 with: {'dropout_rate': 0.1, 'learning_rate': 0.01}\n",
            "0.7677322626113892,0.05816191132370902 with: {'dropout_rate': 0.1, 'learning_rate': 0.1}\n",
            "0.9329004168510437,0.018603953231800578 with: {'dropout_rate': 0.2, 'learning_rate': 0.001}\n",
            "0.9019647002220154,0.025966840366851523 with: {'dropout_rate': 0.2, 'learning_rate': 0.01}\n",
            "0.7315351366996765,0.05242883310715447 with: {'dropout_rate': 0.2, 'learning_rate': 0.1}\n"
          ]
        }
      ]
    },
    {
      "cell_type": "code",
      "source": [
        "# Defining the model\n",
        "#get best value for kernel initializer and activation func by hyperparameter tuning\n",
        "\n",
        "def create_model(activation_function,init):\n",
        "    model = Sequential()\n",
        "    model.add(Dense(8,input_dim = 26,kernel_initializer = init,activation = activation_function))\n",
        "    model.add(Dropout(0.2))\n",
        "    model.add(Dense(4,kernel_initializer = init,activation = activation_function))\n",
        "    model.add(Dropout(0.2))\n",
        "    model.add(Dense(1,activation = 'sigmoid'))\n",
        "\n",
        "    adam = Adam(lr = 0.001)\n",
        "    model.compile(loss = 'binary_crossentropy',optimizer = adam,metrics = ['accuracy'])\n",
        "    return model\n",
        "\n",
        "# Create the model\n",
        "\n",
        "model = KerasClassifier(build_fn = create_model,verbose = 0,batch_size = 10,epochs = 100)\n",
        "\n",
        "# Define the grid search parameters\n",
        "activation_function = ['softmax','relu','tanh','linear']\n",
        "init = ['uniform','normal','zero']\n",
        "\n",
        "# Make a dictionary of the grid search parameters\n",
        "param_grids = dict(activation_function = activation_function,init = init)\n",
        "\n",
        "# Build and fit the GridSearchCV\n",
        "\n",
        "grid = GridSearchCV(estimator = model,param_grid = param_grids,cv = KFold(),verbose = 10)\n",
        "grid_result = grid.fit(x_train,y_train)\n"
      ],
      "metadata": {
        "colab": {
          "base_uri": "https://localhost:8080/"
        },
        "id": "zfPb9-YWYj_Z",
        "outputId": "32093f9c-7c4f-4abd-e225-af1cb44d1e89"
      },
      "execution_count": null,
      "outputs": [
        {
          "output_type": "stream",
          "name": "stdout",
          "text": [
            "Fitting 5 folds for each of 12 candidates, totalling 60 fits\n",
            "[CV 1/5; 1/12] START activation_function=softmax, init=uniform..................\n",
            "[CV 1/5; 1/12] END activation_function=softmax, init=uniform;, score=0.756 total time=   6.1s\n",
            "[CV 2/5; 1/12] START activation_function=softmax, init=uniform..................\n",
            "[CV 2/5; 1/12] END activation_function=softmax, init=uniform;, score=0.782 total time=   6.1s\n",
            "[CV 3/5; 1/12] START activation_function=softmax, init=uniform..................\n",
            "[CV 3/5; 1/12] END activation_function=softmax, init=uniform;, score=0.844 total time=   5.3s\n",
            "[CV 4/5; 1/12] START activation_function=softmax, init=uniform..................\n",
            "[CV 4/5; 1/12] END activation_function=softmax, init=uniform;, score=0.818 total time=   5.5s\n",
            "[CV 5/5; 1/12] START activation_function=softmax, init=uniform..................\n",
            "[CV 5/5; 1/12] END activation_function=softmax, init=uniform;, score=0.857 total time=   8.0s\n",
            "[CV 1/5; 2/12] START activation_function=softmax, init=normal...................\n",
            "[CV 1/5; 2/12] END activation_function=softmax, init=normal;, score=0.756 total time=   6.0s\n",
            "[CV 2/5; 2/12] START activation_function=softmax, init=normal...................\n",
            "[CV 2/5; 2/12] END activation_function=softmax, init=normal;, score=0.769 total time=   5.7s\n",
            "[CV 3/5; 2/12] START activation_function=softmax, init=normal...................\n",
            "[CV 3/5; 2/12] END activation_function=softmax, init=normal;, score=0.844 total time=   5.9s\n",
            "[CV 4/5; 2/12] START activation_function=softmax, init=normal...................\n",
            "[CV 4/5; 2/12] END activation_function=softmax, init=normal;, score=0.818 total time=   5.9s\n",
            "[CV 5/5; 2/12] START activation_function=softmax, init=normal...................\n",
            "[CV 5/5; 2/12] END activation_function=softmax, init=normal;, score=0.857 total time=   5.4s\n",
            "[CV 1/5; 3/12] START activation_function=softmax, init=zero.....................\n",
            "[CV 1/5; 3/12] END activation_function=softmax, init=zero;, score=0.692 total time=   5.6s\n",
            "[CV 2/5; 3/12] START activation_function=softmax, init=zero.....................\n",
            "[CV 2/5; 3/12] END activation_function=softmax, init=zero;, score=0.692 total time=   6.0s\n",
            "[CV 3/5; 3/12] START activation_function=softmax, init=zero.....................\n",
            "[CV 3/5; 3/12] END activation_function=softmax, init=zero;, score=0.844 total time=   6.0s\n",
            "[CV 4/5; 3/12] START activation_function=softmax, init=zero.....................\n",
            "[CV 4/5; 3/12] END activation_function=softmax, init=zero;, score=0.779 total time=   5.3s\n",
            "[CV 5/5; 3/12] START activation_function=softmax, init=zero.....................\n",
            "[CV 5/5; 3/12] END activation_function=softmax, init=zero;, score=0.831 total time=   5.1s\n",
            "[CV 1/5; 4/12] START activation_function=relu, init=uniform.....................\n",
            "[CV 1/5; 4/12] END activation_function=relu, init=uniform;, score=0.885 total time=   6.3s\n",
            "[CV 2/5; 4/12] START activation_function=relu, init=uniform.....................\n",
            "[CV 2/5; 4/12] END activation_function=relu, init=uniform;, score=0.962 total time=   6.1s\n",
            "[CV 3/5; 4/12] START activation_function=relu, init=uniform.....................\n",
            "[CV 3/5; 4/12] END activation_function=relu, init=uniform;, score=0.961 total time=   6.0s\n",
            "[CV 4/5; 4/12] START activation_function=relu, init=uniform.....................\n",
            "[CV 4/5; 4/12] END activation_function=relu, init=uniform;, score=0.909 total time=   5.3s\n",
            "[CV 5/5; 4/12] START activation_function=relu, init=uniform.....................\n",
            "[CV 5/5; 4/12] END activation_function=relu, init=uniform;, score=0.961 total time=   6.3s\n",
            "[CV 1/5; 5/12] START activation_function=relu, init=normal......................\n",
            "[CV 1/5; 5/12] END activation_function=relu, init=normal;, score=0.846 total time=   5.7s\n",
            "[CV 2/5; 5/12] START activation_function=relu, init=normal......................\n",
            "[CV 2/5; 5/12] END activation_function=relu, init=normal;, score=0.936 total time=   5.4s\n",
            "[CV 3/5; 5/12] START activation_function=relu, init=normal......................\n",
            "[CV 3/5; 5/12] END activation_function=relu, init=normal;, score=0.948 total time=   5.3s\n",
            "[CV 4/5; 5/12] START activation_function=relu, init=normal......................\n",
            "[CV 4/5; 5/12] END activation_function=relu, init=normal;, score=0.909 total time=   5.1s\n",
            "[CV 5/5; 5/12] START activation_function=relu, init=normal......................\n",
            "[CV 5/5; 5/12] END activation_function=relu, init=normal;, score=0.935 total time=   5.1s\n",
            "[CV 1/5; 6/12] START activation_function=relu, init=zero........................\n",
            "[CV 1/5; 6/12] END activation_function=relu, init=zero;, score=0.667 total time=   6.0s\n",
            "[CV 2/5; 6/12] START activation_function=relu, init=zero........................\n",
            "[CV 2/5; 6/12] END activation_function=relu, init=zero;, score=0.692 total time=   6.0s\n",
            "[CV 3/5; 6/12] START activation_function=relu, init=zero........................\n",
            "[CV 3/5; 6/12] END activation_function=relu, init=zero;, score=0.805 total time=   5.0s\n",
            "[CV 4/5; 6/12] START activation_function=relu, init=zero........................\n",
            "[CV 4/5; 6/12] END activation_function=relu, init=zero;, score=0.714 total time=   5.9s\n",
            "[CV 5/5; 6/12] START activation_function=relu, init=zero........................\n",
            "[CV 5/5; 6/12] END activation_function=relu, init=zero;, score=0.779 total time=   6.0s\n",
            "[CV 1/5; 7/12] START activation_function=tanh, init=uniform.....................\n",
            "[CV 1/5; 7/12] END activation_function=tanh, init=uniform;, score=0.949 total time=   6.0s\n",
            "[CV 2/5; 7/12] START activation_function=tanh, init=uniform.....................\n",
            "[CV 2/5; 7/12] END activation_function=tanh, init=uniform;, score=0.949 total time=   5.4s\n",
            "[CV 3/5; 7/12] START activation_function=tanh, init=uniform.....................\n",
            "[CV 3/5; 7/12] END activation_function=tanh, init=uniform;, score=0.974 total time=   5.9s\n",
            "[CV 4/5; 7/12] START activation_function=tanh, init=uniform.....................\n",
            "[CV 4/5; 7/12] END activation_function=tanh, init=uniform;, score=0.948 total time=   5.0s\n",
            "[CV 5/5; 7/12] START activation_function=tanh, init=uniform.....................\n",
            "[CV 5/5; 7/12] END activation_function=tanh, init=uniform;, score=0.948 total time=   6.0s\n",
            "[CV 1/5; 8/12] START activation_function=tanh, init=normal......................\n",
            "[CV 1/5; 8/12] END activation_function=tanh, init=normal;, score=0.949 total time=   6.0s\n",
            "[CV 2/5; 8/12] START activation_function=tanh, init=normal......................\n",
            "[CV 2/5; 8/12] END activation_function=tanh, init=normal;, score=0.974 total time=   5.2s\n",
            "[CV 3/5; 8/12] START activation_function=tanh, init=normal......................\n",
            "[CV 3/5; 8/12] END activation_function=tanh, init=normal;, score=0.961 total time=   5.9s\n",
            "[CV 4/5; 8/12] START activation_function=tanh, init=normal......................\n",
            "[CV 4/5; 8/12] END activation_function=tanh, init=normal;, score=0.948 total time=   7.0s\n",
            "[CV 5/5; 8/12] START activation_function=tanh, init=normal......................\n",
            "[CV 5/5; 8/12] END activation_function=tanh, init=normal;, score=0.948 total time=   5.9s\n",
            "[CV 1/5; 9/12] START activation_function=tanh, init=zero........................\n",
            "[CV 1/5; 9/12] END activation_function=tanh, init=zero;, score=0.667 total time=   5.4s\n",
            "[CV 2/5; 9/12] START activation_function=tanh, init=zero........................\n",
            "[CV 2/5; 9/12] END activation_function=tanh, init=zero;, score=0.692 total time=   5.6s\n",
            "[CV 3/5; 9/12] START activation_function=tanh, init=zero........................\n",
            "[CV 3/5; 9/12] END activation_function=tanh, init=zero;, score=0.805 total time=   5.1s\n",
            "[CV 4/5; 9/12] START activation_function=tanh, init=zero........................\n",
            "[CV 4/5; 9/12] END activation_function=tanh, init=zero;, score=0.714 total time=   5.9s\n",
            "[CV 5/5; 9/12] START activation_function=tanh, init=zero........................\n",
            "[CV 5/5; 9/12] END activation_function=tanh, init=zero;, score=0.779 total time=   5.0s\n",
            "[CV 1/5; 10/12] START activation_function=linear, init=uniform..................\n",
            "[CV 1/5; 10/12] END activation_function=linear, init=uniform;, score=0.949 total time=   5.3s\n",
            "[CV 2/5; 10/12] START activation_function=linear, init=uniform..................\n",
            "[CV 2/5; 10/12] END activation_function=linear, init=uniform;, score=0.949 total time=   5.3s\n",
            "[CV 3/5; 10/12] START activation_function=linear, init=uniform..................\n",
            "[CV 3/5; 10/12] END activation_function=linear, init=uniform;, score=0.974 total time=   5.9s\n",
            "[CV 4/5; 10/12] START activation_function=linear, init=uniform..................\n",
            "[CV 4/5; 10/12] END activation_function=linear, init=uniform;, score=0.961 total time=   5.0s\n",
            "[CV 5/5; 10/12] START activation_function=linear, init=uniform..................\n",
            "[CV 5/5; 10/12] END activation_function=linear, init=uniform;, score=0.961 total time=   5.0s\n",
            "[CV 1/5; 11/12] START activation_function=linear, init=normal...................\n",
            "[CV 1/5; 11/12] END activation_function=linear, init=normal;, score=0.949 total time=   6.3s\n",
            "[CV 2/5; 11/12] START activation_function=linear, init=normal...................\n",
            "[CV 2/5; 11/12] END activation_function=linear, init=normal;, score=0.962 total time=   6.0s\n",
            "[CV 3/5; 11/12] START activation_function=linear, init=normal...................\n",
            "[CV 3/5; 11/12] END activation_function=linear, init=normal;, score=0.974 total time=   5.9s\n",
            "[CV 4/5; 11/12] START activation_function=linear, init=normal...................\n",
            "[CV 4/5; 11/12] END activation_function=linear, init=normal;, score=0.974 total time=   5.1s\n",
            "[CV 5/5; 11/12] START activation_function=linear, init=normal...................\n",
            "[CV 5/5; 11/12] END activation_function=linear, init=normal;, score=0.948 total time=   5.2s\n",
            "[CV 1/5; 12/12] START activation_function=linear, init=zero.....................\n",
            "[CV 1/5; 12/12] END activation_function=linear, init=zero;, score=0.667 total time=   6.0s\n",
            "[CV 2/5; 12/12] START activation_function=linear, init=zero.....................\n",
            "[CV 2/5; 12/12] END activation_function=linear, init=zero;, score=0.692 total time=   6.0s\n",
            "[CV 3/5; 12/12] START activation_function=linear, init=zero.....................\n",
            "[CV 3/5; 12/12] END activation_function=linear, init=zero;, score=0.805 total time=   6.0s\n",
            "[CV 4/5; 12/12] START activation_function=linear, init=zero.....................\n",
            "[CV 4/5; 12/12] END activation_function=linear, init=zero;, score=0.714 total time=   5.3s\n",
            "[CV 5/5; 12/12] START activation_function=linear, init=zero.....................\n",
            "[CV 5/5; 12/12] END activation_function=linear, init=zero;, score=0.779 total time=   5.3s\n"
          ]
        }
      ]
    },
    {
      "cell_type": "code",
      "source": [
        "# Summarize the results\n",
        "print('Best : {}, using {}'.format(grid_result.best_score_,grid_result.best_params_))\n",
        "means = grid_result.cv_results_['mean_test_score']\n",
        "stds = grid_result.cv_results_['std_test_score']\n",
        "params = grid_result.cv_results_['params']\n",
        "for mean, stdev, param in zip(means, stds, params):\n",
        "  print('{},{} with: {}'.format(mean, stdev, param))\n"
      ],
      "metadata": {
        "colab": {
          "base_uri": "https://localhost:8080/"
        },
        "id": "Kbf0acD8Yj36",
        "outputId": "3e947007-2fb3-4fc1-c998-e56d13ba84a2"
      },
      "execution_count": null,
      "outputs": [
        {
          "output_type": "stream",
          "name": "stdout",
          "text": [
            "Best : 0.9612720489501954, using {'activation_function': 'linear', 'init': 'normal'}\n",
            "0.8115884065628052,0.03767331323533409 with: {'activation_function': 'softmax', 'init': 'uniform'}\n",
            "0.8090243101119995,0.03996309611417382 with: {'activation_function': 'softmax', 'init': 'normal'}\n",
            "0.7678321719169616,0.06538260361527867 with: {'activation_function': 'softmax', 'init': 'zero'}\n",
            "0.9354645252227783,0.032462761621271145 with: {'activation_function': 'relu', 'init': 'uniform'}\n",
            "0.9148518085479737,0.03662330225091391 with: {'activation_function': 'relu', 'init': 'normal'}\n",
            "0.7315351366996765,0.05242883310715447 with: {'activation_function': 'relu', 'init': 'zero'}\n",
            "0.9535131454467773,0.010260733694464202 with: {'activation_function': 'tanh', 'init': 'uniform'}\n",
            "0.9560439467430115,0.010409660931211403 with: {'activation_function': 'tanh', 'init': 'normal'}\n",
            "0.7315351366996765,0.05242883310715447 with: {'activation_function': 'tanh', 'init': 'zero'}\n",
            "0.9587079524993897,0.009435134334803875 with: {'activation_function': 'linear', 'init': 'uniform'}\n",
            "0.9612720489501954,0.011469721981488273 with: {'activation_function': 'linear', 'init': 'normal'}\n",
            "0.7315351366996765,0.05242883310715447 with: {'activation_function': 'linear', 'init': 'zero'}\n"
          ]
        }
      ]
    },
    {
      "cell_type": "code",
      "source": [
        "# Defining the model\n",
        "#get best value for neuron by hyperparameter tuning\n",
        "\n",
        "def create_model(neuron1,neuron2):\n",
        "    model = Sequential()\n",
        "    model.add(Dense(neuron1,input_dim = 26,kernel_initializer = 'normal',activation = 'linear'))\n",
        "    model.add(Dropout(0.2))\n",
        "    model.add(Dense(neuron2,input_dim = neuron1,kernel_initializer = 'normal',activation = 'linear'))\n",
        "    model.add(Dropout(0.2))\n",
        "    model.add(Dense(1,activation = 'sigmoid'))\n",
        "\n",
        "    adam = Adam(lr = 0.001)\n",
        "    model.compile(loss = 'binary_crossentropy',optimizer = adam,metrics = ['accuracy'])\n",
        "    return model\n",
        "\n",
        "# Create the model\n",
        "\n",
        "model = KerasClassifier(build_fn = create_model,verbose = 0,batch_size = 10,epochs = 100)\n",
        "\n",
        "# Define the grid search parameters\n",
        "\n",
        "neuron1 = [4,8,16]\n",
        "neuron2 = [2,4,8]\n",
        "\n",
        "# Make a dictionary of the grid search parameters\n",
        "\n",
        "param_grids = dict(neuron1 = neuron1,neuron2 = neuron2)\n",
        "\n",
        "# Build and fit the GridSearchCV\n",
        "\n",
        "grid = GridSearchCV(estimator = model,param_grid = param_grids,cv = KFold(),verbose = 10)\n",
        "grid_result = grid.fit(x_train,y_train)"
      ],
      "metadata": {
        "colab": {
          "base_uri": "https://localhost:8080/"
        },
        "id": "F7dVAJRtYjxJ",
        "outputId": "1de514be-b547-490c-d106-f1324796a97e"
      },
      "execution_count": null,
      "outputs": [
        {
          "output_type": "stream",
          "name": "stdout",
          "text": [
            "Fitting 5 folds for each of 9 candidates, totalling 45 fits\n",
            "[CV 1/5; 1/9] START neuron1=4, neuron2=2........................................\n",
            "[CV 1/5; 1/9] END .........neuron1=4, neuron2=2;, score=0.936 total time=   9.0s\n",
            "[CV 2/5; 1/9] START neuron1=4, neuron2=2........................................\n",
            "[CV 2/5; 1/9] END .........neuron1=4, neuron2=2;, score=0.949 total time=   6.8s\n",
            "[CV 3/5; 1/9] START neuron1=4, neuron2=2........................................\n",
            "[CV 3/5; 1/9] END .........neuron1=4, neuron2=2;, score=0.961 total time=  11.5s\n",
            "[CV 4/5; 1/9] START neuron1=4, neuron2=2........................................\n",
            "[CV 4/5; 1/9] END .........neuron1=4, neuron2=2;, score=0.948 total time=   5.0s\n",
            "[CV 5/5; 1/9] START neuron1=4, neuron2=2........................................\n",
            "[CV 5/5; 1/9] END .........neuron1=4, neuron2=2;, score=0.961 total time=   5.9s\n",
            "[CV 1/5; 2/9] START neuron1=4, neuron2=4........................................\n",
            "[CV 1/5; 2/9] END .........neuron1=4, neuron2=4;, score=0.949 total time=  11.2s\n",
            "[CV 2/5; 2/9] START neuron1=4, neuron2=4........................................\n",
            "[CV 2/5; 2/9] END .........neuron1=4, neuron2=4;, score=0.962 total time=   6.2s\n",
            "[CV 3/5; 2/9] START neuron1=4, neuron2=4........................................\n",
            "[CV 3/5; 2/9] END .........neuron1=4, neuron2=4;, score=0.961 total time=  11.6s\n",
            "[CV 4/5; 2/9] START neuron1=4, neuron2=4........................................\n",
            "[CV 4/5; 2/9] END .........neuron1=4, neuron2=4;, score=0.935 total time=   8.9s\n",
            "[CV 5/5; 2/9] START neuron1=4, neuron2=4........................................\n",
            "[CV 5/5; 2/9] END .........neuron1=4, neuron2=4;, score=0.948 total time=   9.6s\n",
            "[CV 1/5; 3/9] START neuron1=4, neuron2=8........................................\n",
            "[CV 1/5; 3/9] END .........neuron1=4, neuron2=8;, score=0.949 total time=  12.2s\n",
            "[CV 2/5; 3/9] START neuron1=4, neuron2=8........................................\n",
            "[CV 2/5; 3/9] END .........neuron1=4, neuron2=8;, score=0.962 total time=   6.1s\n",
            "[CV 3/5; 3/9] START neuron1=4, neuron2=8........................................\n",
            "[CV 3/5; 3/9] END .........neuron1=4, neuron2=8;, score=0.974 total time=   5.4s\n",
            "[CV 4/5; 3/9] START neuron1=4, neuron2=8........................................\n",
            "[CV 4/5; 3/9] END .........neuron1=4, neuron2=8;, score=0.961 total time=   5.9s\n",
            "[CV 5/5; 3/9] START neuron1=4, neuron2=8........................................\n",
            "[CV 5/5; 3/9] END .........neuron1=4, neuron2=8;, score=0.961 total time=   6.0s\n",
            "[CV 1/5; 4/9] START neuron1=8, neuron2=2........................................\n",
            "[CV 1/5; 4/9] END .........neuron1=8, neuron2=2;, score=0.949 total time=   5.6s\n",
            "[CV 2/5; 4/9] START neuron1=8, neuron2=2........................................\n",
            "[CV 2/5; 4/9] END .........neuron1=8, neuron2=2;, score=0.962 total time=   5.4s\n",
            "[CV 3/5; 4/9] START neuron1=8, neuron2=2........................................\n",
            "[CV 3/5; 4/9] END .........neuron1=8, neuron2=2;, score=0.961 total time=   5.9s\n",
            "[CV 4/5; 4/9] START neuron1=8, neuron2=2........................................\n",
            "[CV 4/5; 4/9] END .........neuron1=8, neuron2=2;, score=0.948 total time=   6.0s\n",
            "[CV 5/5; 4/9] START neuron1=8, neuron2=2........................................\n",
            "[CV 5/5; 4/9] END .........neuron1=8, neuron2=2;, score=0.961 total time=   5.0s\n",
            "[CV 1/5; 5/9] START neuron1=8, neuron2=4........................................\n",
            "[CV 1/5; 5/9] END .........neuron1=8, neuron2=4;, score=0.949 total time=   5.4s\n",
            "[CV 2/5; 5/9] START neuron1=8, neuron2=4........................................\n",
            "[CV 2/5; 5/9] END .........neuron1=8, neuron2=4;, score=0.962 total time=   5.4s\n",
            "[CV 3/5; 5/9] START neuron1=8, neuron2=4........................................\n",
            "[CV 3/5; 5/9] END .........neuron1=8, neuron2=4;, score=0.948 total time=   7.6s\n",
            "[CV 4/5; 5/9] START neuron1=8, neuron2=4........................................\n",
            "[CV 4/5; 5/9] END .........neuron1=8, neuron2=4;, score=0.935 total time=   5.1s\n",
            "[CV 5/5; 5/9] START neuron1=8, neuron2=4........................................\n",
            "[CV 5/5; 5/9] END .........neuron1=8, neuron2=4;, score=0.961 total time=   5.9s\n",
            "[CV 1/5; 6/9] START neuron1=8, neuron2=8........................................\n",
            "[CV 1/5; 6/9] END .........neuron1=8, neuron2=8;, score=0.949 total time=   5.6s\n",
            "[CV 2/5; 6/9] START neuron1=8, neuron2=8........................................\n",
            "[CV 2/5; 6/9] END .........neuron1=8, neuron2=8;, score=0.936 total time=   5.8s\n",
            "[CV 3/5; 6/9] START neuron1=8, neuron2=8........................................\n",
            "[CV 3/5; 6/9] END .........neuron1=8, neuron2=8;, score=0.961 total time=  11.1s\n",
            "[CV 4/5; 6/9] START neuron1=8, neuron2=8........................................\n",
            "[CV 4/5; 6/9] END .........neuron1=8, neuron2=8;, score=0.961 total time=   5.9s\n",
            "[CV 5/5; 6/9] START neuron1=8, neuron2=8........................................\n",
            "[CV 5/5; 6/9] END .........neuron1=8, neuron2=8;, score=0.948 total time=   5.0s\n",
            "[CV 1/5; 7/9] START neuron1=16, neuron2=2.......................................\n",
            "[CV 1/5; 7/9] END ........neuron1=16, neuron2=2;, score=0.949 total time=   6.0s\n",
            "[CV 2/5; 7/9] START neuron1=16, neuron2=2.......................................\n",
            "[CV 2/5; 7/9] END ........neuron1=16, neuron2=2;, score=0.962 total time=   5.5s\n",
            "[CV 3/5; 7/9] START neuron1=16, neuron2=2.......................................\n",
            "[CV 3/5; 7/9] END ........neuron1=16, neuron2=2;, score=0.961 total time=   6.0s\n",
            "[CV 4/5; 7/9] START neuron1=16, neuron2=2.......................................\n",
            "[CV 4/5; 7/9] END ........neuron1=16, neuron2=2;, score=0.922 total time=   6.0s\n",
            "[CV 5/5; 7/9] START neuron1=16, neuron2=2.......................................\n",
            "[CV 5/5; 7/9] END ........neuron1=16, neuron2=2;, score=0.961 total time=   5.9s\n",
            "[CV 1/5; 8/9] START neuron1=16, neuron2=4.......................................\n",
            "[CV 1/5; 8/9] END ........neuron1=16, neuron2=4;, score=0.949 total time=   6.0s\n",
            "[CV 2/5; 8/9] START neuron1=16, neuron2=4.......................................\n",
            "[CV 2/5; 8/9] END ........neuron1=16, neuron2=4;, score=0.974 total time=   5.5s\n",
            "[CV 3/5; 8/9] START neuron1=16, neuron2=4.......................................\n",
            "[CV 3/5; 8/9] END ........neuron1=16, neuron2=4;, score=0.961 total time=   5.2s\n",
            "[CV 4/5; 8/9] START neuron1=16, neuron2=4.......................................\n",
            "[CV 4/5; 8/9] END ........neuron1=16, neuron2=4;, score=0.974 total time=   5.4s\n",
            "[CV 5/5; 8/9] START neuron1=16, neuron2=4.......................................\n",
            "[CV 5/5; 8/9] END ........neuron1=16, neuron2=4;, score=0.961 total time=   6.8s\n",
            "[CV 1/5; 9/9] START neuron1=16, neuron2=8.......................................\n",
            "[CV 1/5; 9/9] END ........neuron1=16, neuron2=8;, score=0.949 total time=   5.5s\n",
            "[CV 2/5; 9/9] START neuron1=16, neuron2=8.......................................\n",
            "[CV 2/5; 9/9] END ........neuron1=16, neuron2=8;, score=0.949 total time=   6.4s\n",
            "[CV 3/5; 9/9] START neuron1=16, neuron2=8.......................................\n",
            "[CV 3/5; 9/9] END ........neuron1=16, neuron2=8;, score=0.987 total time=   5.9s\n",
            "[CV 4/5; 9/9] START neuron1=16, neuron2=8.......................................\n",
            "[CV 4/5; 9/9] END ........neuron1=16, neuron2=8;, score=0.961 total time=   5.9s\n",
            "[CV 5/5; 9/9] START neuron1=16, neuron2=8.......................................\n",
            "[CV 5/5; 9/9] END ........neuron1=16, neuron2=8;, score=0.948 total time=   6.8s\n"
          ]
        }
      ]
    },
    {
      "cell_type": "code",
      "source": [
        "# Summarize the results\n",
        "print('Best : {}, using {}'.format(grid_result.best_score_,grid_result.best_params_))\n",
        "means = grid_result.cv_results_['mean_test_score']\n",
        "stds = grid_result.cv_results_['std_test_score']\n",
        "params = grid_result.cv_results_['params']\n",
        "for mean, stdev, param in zip(means, stds, params):\n",
        "  print('{},{} with: {}'.format(mean, stdev, param))"
      ],
      "metadata": {
        "colab": {
          "base_uri": "https://localhost:8080/"
        },
        "id": "JfMW0oABYjmQ",
        "outputId": "5a92684a-12ae-4a04-c50a-5278ef4e348b"
      },
      "execution_count": null,
      "outputs": [
        {
          "output_type": "stream",
          "name": "stdout",
          "text": [
            "Best : 0.96383615732193, using {'neuron1': 16, 'neuron2': 4}\n",
            "0.9509490370750427,0.009418439605894759 with: {'neuron1': 4, 'neuron2': 2}\n",
            "0.9508824348449707,0.009793833176593714 with: {'neuron1': 4, 'neuron2': 4}\n",
            "0.9612720489501954,0.008005590018728099 with: {'neuron1': 4, 'neuron2': 8}\n",
            "0.956077241897583,0.006286914143572149 with: {'neuron1': 8, 'neuron2': 2}\n",
            "0.9508824348449707,0.009793833176593714 with: {'neuron1': 8, 'neuron2': 4}\n",
            "0.9509490370750427,0.009418439605894759 with: {'neuron1': 8, 'neuron2': 8}\n",
            "0.9508824348449707,0.015193724686866628 with: {'neuron1': 16, 'neuron2': 2}\n",
            "0.96383615732193,0.00957883912253323 with: {'neuron1': 16, 'neuron2': 4}\n",
            "0.9587079524993897,0.01496502126577666 with: {'neuron1': 16, 'neuron2': 8}\n"
          ]
        }
      ]
    },
    {
      "cell_type": "code",
      "source": [
        "from sklearn.metrics import classification_report, accuracy_score\n",
        "\n",
        "# Defining the model\n",
        "\n",
        "def create_model():\n",
        "    model = Sequential()\n",
        "    model.add(Dense(16,input_dim = 26,kernel_initializer = 'normal',activation = 'linear'))\n",
        "    model.add(Dropout(0.2))\n",
        "    model.add(Dense(4,input_dim = 16,kernel_initializer = 'normal',activation = 'linear'))\n",
        "    model.add(Dropout(0.2))\n",
        "    model.add(Dense(1,activation = 'sigmoid'))\n",
        "\n",
        "    adam = Adam(lr = 0.001) #sgd = SGD(lr=learning_rate, momentum=momentum, decay=decay_rate, nesterov=False)\n",
        "    model.compile(loss = 'binary_crossentropy',optimizer = adam,metrics = ['accuracy'])\n",
        "    return model\n",
        "\n",
        "# Create the model\n",
        "\n",
        "model = KerasClassifier(build_fn = create_model,verbose = 0,batch_size = 10,epochs = 100)\n",
        "\n",
        "# Fitting the model\n",
        "\n",
        "model.fit(x_train,y_train)\n",
        "\n",
        "# Predicting using trained model\n",
        "\n",
        "y_predict = model.predict(x_test)\n",
        "\n",
        "\n",
        "# Printing the metrics\n",
        "\n",
        "print(\"Test Accuracy:\", accuracy_score(y_test,y_predict))"
      ],
      "metadata": {
        "colab": {
          "base_uri": "https://localhost:8080/"
        },
        "id": "0dNHfsO4bqca",
        "outputId": "03435809-92ad-42d3-c465-a2af562eb8a7"
      },
      "execution_count": null,
      "outputs": [
        {
          "output_type": "stream",
          "name": "stdout",
          "text": [
            "0.9615384615384616\n"
          ]
        }
      ]
    },
    {
      "cell_type": "code",
      "source": [
        "# plot confusion matrix to describe the performance of classifier.\n",
        "\n",
        "cm_df=confusion_matrix(y_test, y_predict)\n",
        "class_label = [\"1\", \"0\"]\n",
        "df_cm = pd.DataFrame(cm_df, index = class_label, columns = class_label)\n",
        "sns.heatmap(df_cm, annot = True, fmt = \"d\")\n",
        "plt.title(\"Confusion Matrix for test data\")\n",
        "plt.xlabel(\"Predicted Label\")\n",
        "plt.ylabel(\"Actual Label\")\n",
        "plt.show()"
      ],
      "metadata": {
        "colab": {
          "base_uri": "https://localhost:8080/",
          "height": 404
        },
        "id": "mJs29bRkbqOy",
        "outputId": "a2039bf7-499e-4372-83c8-5c8945f962fe"
      },
      "execution_count": null,
      "outputs": [
        {
          "output_type": "display_data",
          "data": {
            "text/plain": [
              "<Figure size 864x432 with 2 Axes>"
            ],
            "image/png": "[encoded data removed]"
          },
          "metadata": {
            "needs_background": "light"
          }
        }
      ]
    },
    {
      "cell_type": "code",
      "source": [
        "y_hat = model.predict(x_train)\n",
        "print(\"Train Accuracy:\", accuracy_score(y_train, y_hat))"
      ],
      "metadata": {
        "colab": {
          "base_uri": "https://localhost:8080/"
        },
        "id": "cqtWaO4TbqUb",
        "outputId": "d1674e3a-a734-4343-8b89-36973a0dbb1e"
      },
      "execution_count": null,
      "outputs": [
        {
          "output_type": "stream",
          "name": "stdout",
          "text": [
            "Train Accuracy: 0.9974160206718347\n"
          ]
        }
      ]
    },
    {
      "cell_type": "code",
      "source": [
        "cm_df=confusion_matrix(y_train, y_hat)\n",
        "class_label = [\"1\", \"0\"]\n",
        "df_cm = pd.DataFrame(cm_df, index = class_label, columns = class_label)\n",
        "sns.heatmap(df_cm, annot = True, fmt = \"d\")\n",
        "plt.title(\"Confusion Matrix for train data\")\n",
        "plt.xlabel(\"Predicted Label\")\n",
        "plt.ylabel(\"Actual Label\")\n",
        "plt.show()"
      ],
      "metadata": {
        "colab": {
          "base_uri": "https://localhost:8080/",
          "height": 404
        },
        "id": "gExOzHPpmwhG",
        "outputId": "ad27fc0e-9010-4118-9e15-f57bdb394fd1"
      },
      "execution_count": null,
      "outputs": [
        {
          "output_type": "display_data",
          "data": {
            "text/plain": [
              "<Figure size 864x432 with 2 Axes>"
            ],
            "image/png": "[encoded data removed]"
          },
          "metadata": {
            "needs_background": "light"
          }
        }
      ]
    },
    {
      "cell_type": "code",
      "source": [],
      "metadata": {
        "id": "MHXKDFegnH69"
      },
      "execution_count": null,
      "outputs": []
    }
  ]
}